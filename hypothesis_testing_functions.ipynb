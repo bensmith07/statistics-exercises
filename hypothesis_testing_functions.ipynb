{
 "cells": [
  {
   "cell_type": "code",
   "execution_count": 1,
   "id": "39ea5b45",
   "metadata": {},
   "outputs": [],
   "source": [
    "# T-test, 1-sample, 1-tail, greater than\n",
    "\n",
    "def ttest_1samp_greater_than(a, popmean, alpha=.05):\n",
    "    \n",
    "    t, p = stats.ttest_1samp(a, popmean)\n",
    "    \n",
    "    if p/2 < alpha and t > 0 :\n",
    "        print('Reject H0.')\n",
    "    else: \n",
    "        print('Fail to reject H0.')"
   ]
  },
  {
   "cell_type": "code",
   "execution_count": 2,
   "id": "2d1eeda5",
   "metadata": {},
   "outputs": [],
   "source": [
    "# T-test, 1-sample, 1-tail, less than\n",
    "\n",
    "def ttest_1samp_less_than(a, popmean, alpha=.05):\n",
    "    \n",
    "    t, p = stats.ttest_1samp(a, popmean)\n",
    "    \n",
    "    if p/2 < alpha and t < 0 :\n",
    "        print('Reject H0.')\n",
    "    else: \n",
    "        print('Fail to reject H0.')"
   ]
  },
  {
   "cell_type": "code",
   "execution_count": 3,
   "id": "80808226",
   "metadata": {},
   "outputs": [],
   "source": [
    "# T-test, 1 sample, 2-tail\n",
    "\n",
    "\n",
    "def ttest_1samp_two_tail(a, popmean, alpha=.05):\n",
    "    \n",
    "    t, p = stats.ttest_1samp(a, popmean)\n",
    "    \n",
    "    if p < alpha:\n",
    "        print('Reject H0.')\n",
    "    else: \n",
    "        print('Fail to reject H0.')"
   ]
  },
  {
   "cell_type": "code",
   "execution_count": null,
   "id": "524a2f49",
   "metadata": {},
   "outputs": [],
   "source": [
    "# T-Test, 2 sample, 2-tail\n",
    "\n",
    "def ttest_2samp_greater_than(a, b, alpha=.05)"
   ]
  }
 ],
 "metadata": {
  "kernelspec": {
   "display_name": "Python 3 (ipykernel)",
   "language": "python",
   "name": "python3"
  },
  "language_info": {
   "codemirror_mode": {
    "name": "ipython",
    "version": 3
   },
   "file_extension": ".py",
   "mimetype": "text/x-python",
   "name": "python",
   "nbconvert_exporter": "python",
   "pygments_lexer": "ipython3",
   "version": "3.9.7"
  }
 },
 "nbformat": 4,
 "nbformat_minor": 5
}
