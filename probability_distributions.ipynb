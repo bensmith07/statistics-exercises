{
 "cells": [
  {
   "cell_type": "code",
   "execution_count": 1,
   "id": "ef0acd87",
   "metadata": {},
   "outputs": [],
   "source": [
    "import matplotlib.pyplot as plt\n",
    "import numpy as np\n",
    "import pandas as pd\n",
    "from scipy import stats\n",
    "\n",
    "np.random.seed(123)"
   ]
  },
  {
   "cell_type": "markdown",
   "id": "61386763",
   "metadata": {},
   "source": [
    "#### 1. A bank found that the average number of cars waiting during the noon hour at a drive-up window follows a Poisson distribution with a mean of 2 cars. Make a chart of this distribution and answer these questions concerning the probability of cars waiting at the drive-up window."
   ]
  },
  {
   "cell_type": "code",
   "execution_count": 2,
   "id": "32d8b9de",
   "metadata": {},
   "outputs": [],
   "source": [
    "# establish variables \n",
    "n_simulations = 100_000\n",
    "µ = 2\n",
    "dist = stats.poisson(µ)"
   ]
  },
  {
   "cell_type": "code",
   "execution_count": 3,
   "id": "c5b211db",
   "metadata": {},
   "outputs": [
    {
     "data": {
      "image/png": "[encoded data removed]",
      "text/plain": [
       "<Figure size 432x288 with 1 Axes>"
      ]
     },
     "metadata": {
      "needs_background": "light"
     },
     "output_type": "display_data"
    }
   ],
   "source": [
    "# visualize the distribution\n",
    "plt.hist(dist.rvs(n_simulations), bins=range(0, 9), align='left', width=1, edgecolor='black')\n",
    "plt.show()"
   ]
  },
  {
   "cell_type": "markdown",
   "id": "423b4172",
   "metadata": {},
   "source": [
    "#### 1a. What is the probability that no cars drive up in the noon hour?"
   ]
  },
  {
   "cell_type": "code",
   "execution_count": 4,
   "id": "d79ee6f5",
   "metadata": {},
   "outputs": [
    {
     "data": {
      "text/plain": [
       "0.13409"
      ]
     },
     "execution_count": 4,
     "metadata": {},
     "output_type": "execute_result"
    }
   ],
   "source": [
    "# experimental\n",
    "(dist.rvs(n_simulations) == 0).mean()"
   ]
  },
  {
   "cell_type": "code",
   "execution_count": 5,
   "id": "1af8da35",
   "metadata": {},
   "outputs": [
    {
     "data": {
      "text/plain": [
       "0.1353352832366127"
      ]
     },
     "execution_count": 5,
     "metadata": {},
     "output_type": "execute_result"
    }
   ],
   "source": [
    "# theoretical\n",
    "dist.pmf(0)"
   ]
  },
  {
   "cell_type": "markdown",
   "id": "42af7254",
   "metadata": {},
   "source": [
    "#### 1b. What is the probability that 3 or more cars come through the drive through?"
   ]
  },
  {
   "cell_type": "code",
   "execution_count": 6,
   "id": "0eae383f",
   "metadata": {},
   "outputs": [
    {
     "data": {
      "text/plain": [
       "0.32311"
      ]
     },
     "execution_count": 6,
     "metadata": {},
     "output_type": "execute_result"
    }
   ],
   "source": [
    "# experimental\n",
    "(dist.rvs(n_simulations) >= 3).mean()"
   ]
  },
  {
   "cell_type": "code",
   "execution_count": 7,
   "id": "9dfdfdfd",
   "metadata": {},
   "outputs": [
    {
     "data": {
      "text/plain": [
       "0.32332358381693654"
      ]
     },
     "execution_count": 7,
     "metadata": {},
     "output_type": "execute_result"
    }
   ],
   "source": [
    "# theoretical\n",
    "dist.sf(2)"
   ]
  },
  {
   "cell_type": "markdown",
   "id": "6f74704a",
   "metadata": {},
   "source": [
    "#### How likely is it that the drive through gets at least 1 car?"
   ]
  },
  {
   "cell_type": "code",
   "execution_count": 8,
   "id": "e0b90a75",
   "metadata": {},
   "outputs": [
    {
     "data": {
      "text/plain": [
       "0.86403"
      ]
     },
     "execution_count": 8,
     "metadata": {},
     "output_type": "execute_result"
    }
   ],
   "source": [
    "# experimental\n",
    "(dist.rvs(n_simulations) >= 1).mean()"
   ]
  },
  {
   "cell_type": "code",
   "execution_count": 9,
   "id": "6634b56c",
   "metadata": {},
   "outputs": [
    {
     "data": {
      "text/plain": [
       "0.8646647167633873"
      ]
     },
     "execution_count": 9,
     "metadata": {},
     "output_type": "execute_result"
    }
   ],
   "source": [
    "# theoretical\n",
    "dist.sf(0)"
   ]
  },
  {
   "cell_type": "markdown",
   "id": "c9f44ce7",
   "metadata": {},
   "source": [
    "#### 2. Grades of State University graduates are normally distributed with a mean of 3.0 and a standard deviation of .3. Calculate the following:"
   ]
  },
  {
   "cell_type": "code",
   "execution_count": 10,
   "id": "b3d74b81",
   "metadata": {},
   "outputs": [],
   "source": [
    "# establish variables\n",
    "n_simulations = 1_000_000\n",
    "\n",
    "μ = 3\n",
    "σ = .3\n",
    "\n",
    "dist = stats.norm(μ, σ)\n",
    "\n",
    "df = pd.DataFrame(np.random.normal(µ, σ, size=n_simulations)).sort_values(by=0)"
   ]
  },
  {
   "cell_type": "code",
   "execution_count": 11,
   "id": "3eb2cecb",
   "metadata": {},
   "outputs": [
    {
     "data": {
      "image/png": "[encoded data removed]",
      "text/plain": [
       "<Figure size 432x288 with 1 Axes>"
      ]
     },
     "metadata": {
      "needs_background": "light"
     },
     "output_type": "display_data"
    }
   ],
   "source": [
    "# visualize the distribution\n",
    "plt.hist(dist.rvs(n_simulations), bins=np.arange(1.5, 4.5, .01), align='left', width=.01)\n",
    "plt.show()"
   ]
  },
  {
   "cell_type": "markdown",
   "id": "f520db79",
   "metadata": {},
   "source": [
    "#### 2a. What grade point average is required to be in the top 5% of the graduating class?"
   ]
  },
  {
   "cell_type": "code",
   "execution_count": 12,
   "id": "075e8b53",
   "metadata": {},
   "outputs": [
    {
     "data": {
      "text/plain": [
       "3.49339247471563"
      ]
     },
     "execution_count": 12,
     "metadata": {},
     "output_type": "execute_result"
    }
   ],
   "source": [
    "# experimental\n",
    "df.iloc[int(n_simulations * .95)][0]"
   ]
  },
  {
   "cell_type": "code",
   "execution_count": 13,
   "id": "33c1e916",
   "metadata": {},
   "outputs": [
    {
     "data": {
      "text/plain": [
       "3.4934560880854417"
      ]
     },
     "execution_count": 13,
     "metadata": {},
     "output_type": "execute_result"
    }
   ],
   "source": [
    "# theoretical\n",
    "dist.ppf(.95)"
   ]
  },
  {
   "cell_type": "markdown",
   "id": "c5a3e15e",
   "metadata": {},
   "source": [
    "#### 2b. What GPA constitutes the bottom 15% of the class?"
   ]
  },
  {
   "cell_type": "code",
   "execution_count": 14,
   "id": "e6c1697e",
   "metadata": {},
   "outputs": [
    {
     "data": {
      "text/plain": [
       "2.688575271677318"
      ]
     },
     "execution_count": 14,
     "metadata": {},
     "output_type": "execute_result"
    }
   ],
   "source": [
    "# experimental\n",
    "df.iloc[int(n_simulations * .15)][0]"
   ]
  },
  {
   "cell_type": "code",
   "execution_count": 15,
   "id": "71bef50c",
   "metadata": {},
   "outputs": [
    {
     "data": {
      "text/plain": [
       "2.689069983151863"
      ]
     },
     "execution_count": 15,
     "metadata": {},
     "output_type": "execute_result"
    }
   ],
   "source": [
    "# theoretical\n",
    "dist.ppf(.15)"
   ]
  },
  {
   "cell_type": "markdown",
   "id": "9983b755",
   "metadata": {},
   "source": [
    "#### 2c. An eccentric alumnus left scholarship money for students in the third decile from the bottom of their class. Determine the range of the third decile. Would a student with a 2.8 grade point average qualify for this scholarship?"
   ]
  },
  {
   "cell_type": "code",
   "execution_count": 16,
   "id": "2eb9313e",
   "metadata": {},
   "outputs": [
    {
     "data": {
      "text/plain": [
       "True"
      ]
     },
     "execution_count": 16,
     "metadata": {},
     "output_type": "execute_result"
    }
   ],
   "source": [
    "# experiemntal \n",
    "min = df.iloc[int(n_simulations * .2)][0]\n",
    "max = df.iloc[int(n_simulations * .3)][0]\n",
    "gpa = 2.8\n",
    "\n",
    "2.8 > min and 2.8 < max"
   ]
  },
  {
   "cell_type": "code",
   "execution_count": 17,
   "id": "2dd1a320",
   "metadata": {},
   "outputs": [
    {
     "data": {
      "text/plain": [
       "True"
      ]
     },
     "execution_count": 17,
     "metadata": {},
     "output_type": "execute_result"
    }
   ],
   "source": [
    "# theoretical\n",
    "min = dist.ppf(.2)\n",
    "max = dist.ppf(.3)\n",
    "gpa = 2.8\n",
    "\n",
    "2.8 > min and 2.8 < max"
   ]
  },
  {
   "cell_type": "markdown",
   "id": "8d4784f7",
   "metadata": {},
   "source": [
    "#### 2d. If I have a GPA of 3.5, what percentile am I in?"
   ]
  },
  {
   "cell_type": "code",
   "execution_count": 18,
   "id": "b7abf77b",
   "metadata": {},
   "outputs": [
    {
     "data": {
      "text/plain": [
       "0    0.952217\n",
       "dtype: float64"
      ]
     },
     "execution_count": 18,
     "metadata": {},
     "output_type": "execute_result"
    }
   ],
   "source": [
    "# experimental\n",
    "(df < 3.5).mean()"
   ]
  },
  {
   "cell_type": "code",
   "execution_count": 19,
   "id": "36cb5843",
   "metadata": {},
   "outputs": [
    {
     "data": {
      "text/plain": [
       "0.9522096477271853"
      ]
     },
     "execution_count": 19,
     "metadata": {},
     "output_type": "execute_result"
    }
   ],
   "source": [
    "# theoretical\n",
    "dist.cdf(3.5)"
   ]
  },
  {
   "cell_type": "markdown",
   "id": "af4dc45b",
   "metadata": {},
   "source": [
    "#### 3. A marketing website has an average click-through rate of 2%. One day they observe 4326 visitors and 97 click-throughs. How likely is it that this many people or more click through?\n"
   ]
  },
  {
   "cell_type": "code",
   "execution_count": 20,
   "id": "cd5f0bfa",
   "metadata": {},
   "outputs": [],
   "source": [
    "# establish variables\n",
    "n_simulations = 1_000_000\n",
    "n_trials = 4326\n",
    "p = .02\n",
    "dist = stats.binom(n_trials, p)"
   ]
  },
  {
   "cell_type": "code",
   "execution_count": 21,
   "id": "9fcdc0a6",
   "metadata": {},
   "outputs": [
    {
     "data": {
      "image/png": "[encoded data removed]",
      "text/plain": [
       "<Figure size 432x288 with 1 Axes>"
      ]
     },
     "metadata": {
      "needs_background": "light"
     },
     "output_type": "display_data"
    }
   ],
   "source": [
    "# visualize the distribiution\n",
    "plt.hist(dist.rvs(n_simulations), bins=range(0,180,1), width=1)\n",
    "plt.xlim(50, 125)\n",
    "plt.show()"
   ]
  },
  {
   "cell_type": "code",
   "execution_count": 22,
   "id": "43580827",
   "metadata": {},
   "outputs": [
    {
     "data": {
      "text/plain": [
       "0.13951"
      ]
     },
     "execution_count": 22,
     "metadata": {},
     "output_type": "execute_result"
    }
   ],
   "source": [
    "# experimental\n",
    "(dist.rvs(n_simulations) >= 97).mean()"
   ]
  },
  {
   "cell_type": "code",
   "execution_count": 23,
   "id": "c136f12a",
   "metadata": {},
   "outputs": [
    {
     "data": {
      "text/plain": [
       "0.13975823631416445"
      ]
     },
     "execution_count": 23,
     "metadata": {},
     "output_type": "execute_result"
    }
   ],
   "source": [
    "# theoretical\n",
    "dist.sf(96)"
   ]
  },
  {
   "cell_type": "markdown",
   "id": "fd1516f7",
   "metadata": {},
   "source": [
    "#### 4. You are working on some statistics homework consisting of 100 questions where all of the answers are a probability rounded to the hundreths place. Looking to save time, you put down random probabilities as the answer to each question. What is the probability that at least one of your first 60 answers is correct?\n"
   ]
  },
  {
   "cell_type": "code",
   "execution_count": 24,
   "id": "a0457f70",
   "metadata": {},
   "outputs": [],
   "source": [
    "# establish variables\n",
    "n_simulations = 1_000_000\n",
    "n_trials = 60\n",
    "p = 1/101\n",
    "dist = stats.binom(n_trials, p)"
   ]
  },
  {
   "cell_type": "code",
   "execution_count": 25,
   "id": "2b6431b9",
   "metadata": {},
   "outputs": [
    {
     "data": {
      "image/png": "[encoded data removed]",
      "text/plain": [
       "<Figure size 432x288 with 1 Axes>"
      ]
     },
     "metadata": {
      "needs_background": "light"
     },
     "output_type": "display_data"
    }
   ],
   "source": [
    "# visualize the distribution\n",
    "plt.hist(dist.rvs(n_simulations), bins=range(7), width=1, align='left', ec='black')\n",
    "plt.show()"
   ]
  },
  {
   "cell_type": "code",
   "execution_count": 26,
   "id": "77abf7f8",
   "metadata": {},
   "outputs": [
    {
     "data": {
      "text/plain": [
       "0.450271"
      ]
     },
     "execution_count": 26,
     "metadata": {},
     "output_type": "execute_result"
    }
   ],
   "source": [
    "# experimental\n",
    "(dist.rvs(n_simulations) >= 1).mean()"
   ]
  },
  {
   "cell_type": "code",
   "execution_count": 27,
   "id": "d0404d55",
   "metadata": {},
   "outputs": [
    {
     "data": {
      "text/plain": [
       "0.44955038406224"
      ]
     },
     "execution_count": 27,
     "metadata": {},
     "output_type": "execute_result"
    }
   ],
   "source": [
    "# theoretical\n",
    "dist.sf(0)"
   ]
  },
  {
   "cell_type": "markdown",
   "id": "e81fabd2",
   "metadata": {},
   "source": [
    "#### 5. The codeup staff tends to get upset when the student break area is not cleaned up. Suppose that there's a 3% chance that any one student cleans the break area when they visit it, and, on any given day, about 90% of the 3 active cohorts of 22 students visit the break area. "
   ]
  },
  {
   "cell_type": "code",
   "execution_count": 28,
   "id": "ab5505c6",
   "metadata": {},
   "outputs": [],
   "source": [
    "# establish variables\n",
    "n_simulations = 100_000\n",
    "n_trials = int((.9 * 3 * 22)) # number of students visit each day\n",
    "p = .03\n",
    "\n",
    "def dist(days=1):\n",
    "    return stats.binom(n_trials * days, p)"
   ]
  },
  {
   "cell_type": "code",
   "execution_count": 29,
   "id": "6237a76a",
   "metadata": {},
   "outputs": [
    {
     "data": {
      "image/png": "[encoded data removed]",
      "text/plain": [
       "<Figure size 432x288 with 1 Axes>"
      ]
     },
     "metadata": {
      "needs_background": "light"
     },
     "output_type": "display_data"
    }
   ],
   "source": [
    "# visualize the distribution\n",
    "plt.hist(dist(days=1).rvs(n_simulations), bins=range(10), width=1, align='left', ec='black')\n",
    "plt.xticks(range(9))\n",
    "plt.show()"
   ]
  },
  {
   "cell_type": "markdown",
   "id": "3e881e81",
   "metadata": {},
   "source": [
    "#### 5a. How likely is it that the break area gets cleaned up each day? "
   ]
  },
  {
   "cell_type": "code",
   "execution_count": 30,
   "id": "91986959",
   "metadata": {},
   "outputs": [],
   "source": [
    "days = 1"
   ]
  },
  {
   "cell_type": "code",
   "execution_count": 31,
   "id": "9f9958a6",
   "metadata": {},
   "outputs": [
    {
     "data": {
      "text/plain": [
       "0.8357"
      ]
     },
     "execution_count": 31,
     "metadata": {},
     "output_type": "execute_result"
    }
   ],
   "source": [
    "# experimental\n",
    "(dist(days).rvs(n_simulations) > 0).mean()"
   ]
  },
  {
   "cell_type": "code",
   "execution_count": 32,
   "id": "a554ed72",
   "metadata": {},
   "outputs": [
    {
     "data": {
      "text/plain": [
       "0.8342199288437352"
      ]
     },
     "execution_count": 32,
     "metadata": {},
     "output_type": "execute_result"
    }
   ],
   "source": [
    "# theoretical\n",
    "dist(days).sf(0)"
   ]
  },
  {
   "cell_type": "code",
   "execution_count": 33,
   "id": "d08b1b32",
   "metadata": {},
   "outputs": [
    {
     "data": {
      "text/plain": [
       "0.8342199288437355"
      ]
     },
     "execution_count": 33,
     "metadata": {},
     "output_type": "execute_result"
    }
   ],
   "source": [
    "# theoretical\n",
    "1 - dist(days).pmf(0)"
   ]
  },
  {
   "cell_type": "code",
   "execution_count": 34,
   "id": "4a7383df",
   "metadata": {},
   "outputs": [
    {
     "data": {
      "text/plain": [
       "0.8342199288437355"
      ]
     },
     "execution_count": 34,
     "metadata": {},
     "output_type": "execute_result"
    }
   ],
   "source": [
    "# theoretical\n",
    "1 - (.97 ** n_trials * days)"
   ]
  },
  {
   "cell_type": "markdown",
   "id": "30802de4",
   "metadata": {},
   "source": [
    "#### 5b. How likely is it that it goes two days without getting cleaned up? \n"
   ]
  },
  {
   "cell_type": "code",
   "execution_count": 35,
   "id": "a0f16386",
   "metadata": {},
   "outputs": [],
   "source": [
    "days = 2"
   ]
  },
  {
   "cell_type": "code",
   "execution_count": 36,
   "id": "74dcc9e8",
   "metadata": {},
   "outputs": [
    {
     "data": {
      "text/plain": [
       "0.02738"
      ]
     },
     "execution_count": 36,
     "metadata": {},
     "output_type": "execute_result"
    }
   ],
   "source": [
    "# experimental\n",
    "(dist(days).rvs(n_simulations) == 0).mean()"
   ]
  },
  {
   "cell_type": "code",
   "execution_count": 37,
   "id": "5b7ce77c",
   "metadata": {},
   "outputs": [
    {
     "data": {
      "text/plain": [
       "0.027483031992576134"
      ]
     },
     "execution_count": 37,
     "metadata": {},
     "output_type": "execute_result"
    }
   ],
   "source": [
    "# theoretical\n",
    "dist(days).pmf(0)"
   ]
  },
  {
   "cell_type": "code",
   "execution_count": 38,
   "id": "bc0556f8",
   "metadata": {},
   "outputs": [
    {
     "data": {
      "text/plain": [
       "0.027483031992576134"
      ]
     },
     "execution_count": 38,
     "metadata": {},
     "output_type": "execute_result"
    }
   ],
   "source": [
    "# theoretical\n",
    ".97 ** (n_trials * days)"
   ]
  },
  {
   "cell_type": "markdown",
   "id": "6fd87b6f",
   "metadata": {},
   "source": [
    "#### 5c. All week?"
   ]
  },
  {
   "cell_type": "code",
   "execution_count": 39,
   "id": "442c8ebc",
   "metadata": {},
   "outputs": [],
   "source": [
    "days = 5"
   ]
  },
  {
   "cell_type": "code",
   "execution_count": 40,
   "id": "2af5d3b1",
   "metadata": {},
   "outputs": [
    {
     "data": {
      "text/plain": [
       "8e-05"
      ]
     },
     "execution_count": 40,
     "metadata": {},
     "output_type": "execute_result"
    }
   ],
   "source": [
    "# experimental\n",
    "(dist(days).rvs(n_simulations) == 0).mean()"
   ]
  },
  {
   "cell_type": "code",
   "execution_count": 41,
   "id": "0ae08e5b",
   "metadata": {},
   "outputs": [
    {
     "data": {
      "text/plain": [
       "0.00012521651388091245"
      ]
     },
     "execution_count": 41,
     "metadata": {},
     "output_type": "execute_result"
    }
   ],
   "source": [
    "# theoretical\n",
    "dist(days).pmf(0)"
   ]
  },
  {
   "cell_type": "code",
   "execution_count": 42,
   "id": "d3e7d77e",
   "metadata": {},
   "outputs": [
    {
     "data": {
      "text/plain": [
       "0.00012521651388091245"
      ]
     },
     "execution_count": 42,
     "metadata": {},
     "output_type": "execute_result"
    }
   ],
   "source": [
    "# theoretical\n",
    ".97 ** (n_trials * days)"
   ]
  },
  {
   "cell_type": "markdown",
   "id": "07b1995e",
   "metadata": {},
   "source": [
    "#### 6. You want to get lunch at La Panaderia, but notice that the line is usually very long at lunchtime. After several weeks of careful observation, you notice that the average number of people in line when your lunch break starts is normally distributed with a mean of 15 and standard deviation of 3. If it takes 2 minutes for each person to order, and 10 minutes from ordering to getting your food, what is the likelihood that you have at least 15 minutes left to eat your food before you have to go back to class? Assume you have one hour for lunch, and ignore travel time to and from La Panaderia.\n"
   ]
  },
  {
   "cell_type": "code",
   "execution_count": 43,
   "id": "c09c9c34",
   "metadata": {},
   "outputs": [],
   "source": [
    "# establish variables\n",
    "\n",
    "n_simulations = 10_000\n",
    "\n",
    "μ = 15  # mean number of people in line at lunch start\n",
    "σ = 3   # std dev of number of people in line at lunch start\n",
    "\n",
    "order_time = 2  # 2 minutes for each person to order\n",
    "wait_time = 10  # 10 minutes from ordering to getting food\n",
    "lunch_time = 60 # 60 minute lunch break\n",
    "\n",
    "dist = stats.norm(lunch_time - μ * order_time, σ * order_time)"
   ]
  },
  {
   "cell_type": "code",
   "execution_count": 44,
   "id": "88eaa599",
   "metadata": {},
   "outputs": [
    {
     "data": {
      "image/png": "[encoded data removed]",
      "text/plain": [
       "<Figure size 432x288 with 1 Axes>"
      ]
     },
     "metadata": {
      "needs_background": "light"
     },
     "output_type": "display_data"
    }
   ],
   "source": [
    "#visualize the distribution\n",
    "plt.hist(dist.rvs(n_simulations), bins=range(0,61,5), width=5, align='left', ec='black')\n",
    "plt.xticks(range(0,61,5))\n",
    "plt.xlabel('minutes remaining')\n",
    "plt.show()"
   ]
  },
  {
   "cell_type": "code",
   "execution_count": 45,
   "id": "7569983e",
   "metadata": {},
   "outputs": [
    {
     "data": {
      "text/plain": [
       "0.9942"
      ]
     },
     "execution_count": 45,
     "metadata": {},
     "output_type": "execute_result"
    }
   ],
   "source": [
    "# experimental \n",
    "(dist.rvs(n_simulations) >= 15).mean()"
   ]
  },
  {
   "cell_type": "code",
   "execution_count": 46,
   "id": "284bbd67",
   "metadata": {},
   "outputs": [
    {
     "data": {
      "text/plain": [
       "0.9937903346742238"
      ]
     },
     "execution_count": 46,
     "metadata": {},
     "output_type": "execute_result"
    }
   ],
   "source": [
    "# theoretical\n",
    "dist.sf(15)"
   ]
  },
  {
   "cell_type": "markdown",
   "id": "8d909ff4",
   "metadata": {},
   "source": [
    "#### 7. Connect to the employees database and find the average salary of current employees, along with the standard deviation. For the following questions, calculate the answer based on modeling the employees salaries with a normal distribution defined by the calculated mean and standard deviation then compare this answer to the actual values present in the salaries dataset."
   ]
  },
  {
   "cell_type": "code",
   "execution_count": 47,
   "id": "3c30e2a0",
   "metadata": {},
   "outputs": [],
   "source": [
    "from env import get_db_url, user, password, host"
   ]
  },
  {
   "cell_type": "code",
   "execution_count": 48,
   "id": "aca48f0d",
   "metadata": {},
   "outputs": [],
   "source": [
    "# get the data\n",
    "url = get_db_url('employees')\n",
    "sql = '''SELECT salary \n",
    "           FROM salaries\n",
    "           WHERE to_date > NOW()'''\n",
    "\n",
    "salaries = pd.DataFrame(pd.read_sql(sql, url))"
   ]
  },
  {
   "cell_type": "code",
   "execution_count": 49,
   "id": "4e02a2fd",
   "metadata": {},
   "outputs": [],
   "source": [
    "# establish variables\n",
    "μ = salaries.mean()\n",
    "σ = salaries.std()\n",
    "dist = stats.norm(µ, σ)"
   ]
  },
  {
   "cell_type": "code",
   "execution_count": 50,
   "id": "2d227781",
   "metadata": {},
   "outputs": [
    {
     "data": {
      "image/png": "[encoded data removed]",
      "text/plain": [
       "<Figure size 432x288 with 1 Axes>"
      ]
     },
     "metadata": {
      "needs_background": "light"
     },
     "output_type": "display_data"
    }
   ],
   "source": [
    "# visualize the distribution: theoretical normal distribution\n",
    "plt.hist(dist.rvs(len(salaries)), bins=range(0,160_000,1000), width=1000)\n",
    "plt.show()"
   ]
  },
  {
   "cell_type": "code",
   "execution_count": 51,
   "id": "4c6c84f6",
   "metadata": {},
   "outputs": [
    {
     "data": {
      "image/png": "[encoded data removed]",
      "text/plain": [
       "<Figure size 432x288 with 1 Axes>"
      ]
     },
     "metadata": {
      "needs_background": "light"
     },
     "output_type": "display_data"
    }
   ],
   "source": [
    "# visualize the distribution: actual observed values\n",
    "plt.hist(salaries, bins=range(0,160_000,1000), width=1000)\n",
    "plt.show()"
   ]
  },
  {
   "cell_type": "markdown",
   "id": "0fa8034a",
   "metadata": {},
   "source": [
    "#### 7a. What percent of employees earn less than 60,000?"
   ]
  },
  {
   "cell_type": "code",
   "execution_count": 52,
   "id": "e4b28f0c",
   "metadata": {},
   "outputs": [
    {
     "data": {
      "text/plain": [
       "0.24385742480214434"
      ]
     },
     "execution_count": 52,
     "metadata": {},
     "output_type": "execute_result"
    }
   ],
   "source": [
    "# based on a theoretical normal distribution\n",
    "dist.cdf(60_000)[0]"
   ]
  },
  {
   "cell_type": "code",
   "execution_count": 53,
   "id": "54e7e028",
   "metadata": {},
   "outputs": [
    {
     "data": {
      "text/plain": [
       "0.2705727041028802"
      ]
     },
     "execution_count": 53,
     "metadata": {},
     "output_type": "execute_result"
    }
   ],
   "source": [
    "# actual observed values\n",
    "len(salaries[salaries.salary < 60_000]) / len(salaries)"
   ]
  },
  {
   "cell_type": "markdown",
   "id": "3cfacec6",
   "metadata": {},
   "source": [
    "#### 7b. What percent of employees earn more than 95,000?"
   ]
  },
  {
   "cell_type": "code",
   "execution_count": 54,
   "id": "742330e4",
   "metadata": {},
   "outputs": [
    {
     "data": {
      "text/plain": [
       "0.09208819199804058"
      ]
     },
     "execution_count": 54,
     "metadata": {},
     "output_type": "execute_result"
    }
   ],
   "source": [
    "# based on normal distribution\n",
    "dist.sf(95_000)[0]"
   ]
  },
  {
   "cell_type": "code",
   "execution_count": 55,
   "id": "e67a5f7a",
   "metadata": {},
   "outputs": [
    {
     "data": {
      "text/plain": [
       "0.1086272092752078"
      ]
     },
     "execution_count": 55,
     "metadata": {},
     "output_type": "execute_result"
    }
   ],
   "source": [
    "# actual observed values\n",
    "len(salaries[salaries.salary > 95_000]) / len(salaries)"
   ]
  },
  {
   "cell_type": "markdown",
   "id": "ad52768b",
   "metadata": {},
   "source": [
    "#### 7c. What percent of employees earn between 65,000 and 80,000?"
   ]
  },
  {
   "cell_type": "code",
   "execution_count": 56,
   "id": "ffc1f778",
   "metadata": {},
   "outputs": [
    {
     "data": {
      "text/plain": [
       "0.33506056854466654"
      ]
     },
     "execution_count": 56,
     "metadata": {},
     "output_type": "execute_result"
    }
   ],
   "source": [
    "# based on a normal distribution\n",
    "(dist.cdf(80_000)[0]\n",
    "- dist.cdf(65_000)[0])"
   ]
  },
  {
   "cell_type": "code",
   "execution_count": 57,
   "id": "d16e2e11",
   "metadata": {},
   "outputs": [
    {
     "name": "stderr",
     "output_type": "stream",
     "text": [
      "/var/folders/zb/3lg9b5xn3831bhkh23bd5bs00000gn/T/ipykernel_70704/492890421.py:2: UserWarning: Boolean Series key will be reindexed to match DataFrame index.\n",
      "  len(salaries[salaries.salary >= 65_000]\n"
     ]
    },
    {
     "data": {
      "text/plain": [
       "0.32515700221552196"
      ]
     },
     "execution_count": 57,
     "metadata": {},
     "output_type": "execute_result"
    }
   ],
   "source": [
    "# actual observed values \n",
    "len(salaries[salaries.salary >= 65_000]\n",
    "            [salaries.salary <= 80_000]) / len(salaries)"
   ]
  },
  {
   "cell_type": "markdown",
   "id": "773be09e",
   "metadata": {},
   "source": [
    "#### 7d. What do the top 5% of employees make?"
   ]
  },
  {
   "cell_type": "code",
   "execution_count": 58,
   "id": "bc6789f8",
   "metadata": {},
   "outputs": [
    {
     "data": {
      "text/plain": [
       "100484.64454102777"
      ]
     },
     "execution_count": 58,
     "metadata": {},
     "output_type": "execute_result"
    }
   ],
   "source": [
    "# based on a normal distribution\n",
    "dist.isf(.05)[0]"
   ]
  },
  {
   "cell_type": "code",
   "execution_count": 59,
   "id": "99d5c3c0",
   "metadata": {},
   "outputs": [
    {
     "data": {
      "text/plain": [
       "104225"
      ]
     },
     "execution_count": 59,
     "metadata": {},
     "output_type": "execute_result"
    }
   ],
   "source": [
    "# actual observed values\n",
    "idx_95 = int(len(salaries) * .95 - 1) # 95th percentile index\n",
    "salaries.sort_values(by='salary').iloc[idx_95:].min()[0]"
   ]
  }
 ],
 "metadata": {
  "kernelspec": {
   "display_name": "Python 3 (ipykernel)",
   "language": "python",
   "name": "python3"
  },
  "language_info": {
   "codemirror_mode": {
    "name": "ipython",
    "version": 3
   },
   "file_extension": ".py",
   "mimetype": "text/x-python",
   "name": "python",
   "nbconvert_exporter": "python",
   "pygments_lexer": "ipython3",
   "version": "3.9.7"
  }
 },
 "nbformat": 4,
 "nbformat_minor": 5
}
