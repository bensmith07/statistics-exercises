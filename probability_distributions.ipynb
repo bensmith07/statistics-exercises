{
 "cells": [
  {
   "cell_type": "code",
   "execution_count": 1,
   "id": "ef0acd87",
   "metadata": {},
   "outputs": [],
   "source": [
    "import matplotlib.pyplot as plt\n",
    "import numpy as np\n",
    "import pandas as pd\n",
    "from scipy import stats\n",
    "\n",
    "np.random.seed(123)"
   ]
  },
  {
   "cell_type": "markdown",
   "id": "61386763",
   "metadata": {},
   "source": [
    "#### 1. A bank found that the average number of cars waiting during the noon hour at a drive-up window follows a Poisson distribution with a mean of 2 cars. Make a chart of this distribution and answer these questions concerning the probability of cars waiting at the drive-up window."
   ]
  },
  {
   "cell_type": "code",
   "execution_count": 2,
   "id": "c5b211db",
   "metadata": {},
   "outputs": [
    {
     "data": {
      "image/png": "[encoded data removed]",
      "text/plain": [
       "<Figure size 432x288 with 1 Axes>"
      ]
     },
     "metadata": {
      "needs_background": "light"
     },
     "output_type": "display_data"
    }
   ],
   "source": [
    "x = stats.poisson(2).rvs(10000)\n",
    "plt.hist(x, bins=range(0, 9), align='left', width=1, edgecolor='black')\n",
    "plt.show()"
   ]
  },
  {
   "cell_type": "markdown",
   "id": "423b4172",
   "metadata": {},
   "source": [
    "#### 1a. What is the probability that no cars drive up in the noon hour?"
   ]
  },
  {
   "cell_type": "code",
   "execution_count": 3,
   "id": "df9adbaf",
   "metadata": {},
   "outputs": [
    {
     "data": {
      "text/plain": [
       "0.134977"
      ]
     },
     "execution_count": 3,
     "metadata": {},
     "output_type": "execute_result"
    }
   ],
   "source": [
    "# experimental\n",
    "(np.random.poisson(2, size=1_000_000) == 0).mean()"
   ]
  },
  {
   "cell_type": "code",
   "execution_count": 4,
   "id": "1af8da35",
   "metadata": {},
   "outputs": [
    {
     "data": {
      "text/plain": [
       "0.1353352832366127"
      ]
     },
     "execution_count": 4,
     "metadata": {},
     "output_type": "execute_result"
    }
   ],
   "source": [
    "# theoretical\n",
    "stats.poisson(2).pmf(0)"
   ]
  },
  {
   "cell_type": "markdown",
   "id": "42af7254",
   "metadata": {},
   "source": [
    "#### 1b. What is the probability that 3 or more cars come through the drive through?"
   ]
  },
  {
   "cell_type": "code",
   "execution_count": 5,
   "id": "93c933c9",
   "metadata": {},
   "outputs": [
    {
     "data": {
      "text/plain": [
       "0.323409"
      ]
     },
     "execution_count": 5,
     "metadata": {},
     "output_type": "execute_result"
    }
   ],
   "source": [
    "# experimental\n",
    "(np.random.poisson(2, size=1_000_000) >= 3).mean()"
   ]
  },
  {
   "cell_type": "code",
   "execution_count": 6,
   "id": "9dfdfdfd",
   "metadata": {},
   "outputs": [
    {
     "data": {
      "text/plain": [
       "0.32332358381693654"
      ]
     },
     "execution_count": 6,
     "metadata": {},
     "output_type": "execute_result"
    }
   ],
   "source": [
    "# theoretical\n",
    "stats.poisson(2).sf(2)"
   ]
  },
  {
   "cell_type": "markdown",
   "id": "6f74704a",
   "metadata": {},
   "source": [
    "#### How likely is it that the drive through gets at least 1 car?"
   ]
  },
  {
   "cell_type": "code",
   "execution_count": 7,
   "id": "fbd7037e",
   "metadata": {},
   "outputs": [
    {
     "data": {
      "text/plain": [
       "0.864684"
      ]
     },
     "execution_count": 7,
     "metadata": {},
     "output_type": "execute_result"
    }
   ],
   "source": [
    "# experimental\n",
    "(np.random.poisson(2, size=1_000_000) >= 1).mean()"
   ]
  },
  {
   "cell_type": "code",
   "execution_count": 8,
   "id": "6634b56c",
   "metadata": {},
   "outputs": [
    {
     "data": {
      "text/plain": [
       "0.8646647167633873"
      ]
     },
     "execution_count": 8,
     "metadata": {},
     "output_type": "execute_result"
    }
   ],
   "source": [
    "# theoretical\n",
    "stats.poisson(2).sf(0)"
   ]
  },
  {
   "cell_type": "markdown",
   "id": "c9f44ce7",
   "metadata": {},
   "source": [
    "#### 2. Grades of State University graduates are normally distributed with a mean of 3.0 and a standard deviation of .3. Calculate the following:"
   ]
  },
  {
   "cell_type": "code",
   "execution_count": 9,
   "id": "b3d74b81",
   "metadata": {},
   "outputs": [],
   "source": [
    "μ = 3\n",
    "σ = .3"
   ]
  },
  {
   "cell_type": "code",
   "execution_count": 10,
   "id": "2ff7ce4b",
   "metadata": {},
   "outputs": [],
   "source": [
    "grades = stats.norm(μ, σ)"
   ]
  },
  {
   "cell_type": "code",
   "execution_count": 11,
   "id": "bbb9bf1e",
   "metadata": {},
   "outputs": [],
   "source": [
    "n_simulations = 1_000_000\n",
    "grades_df = pd.DataFrame(np.random.normal(µ, σ, size=n_simulations)).sort_values(by=0)"
   ]
  },
  {
   "cell_type": "markdown",
   "id": "f520db79",
   "metadata": {},
   "source": [
    "#### 2a. What grade point average is required to be in the top 5% of the graduating class?"
   ]
  },
  {
   "cell_type": "code",
   "execution_count": 12,
   "id": "73e1f5f8",
   "metadata": {},
   "outputs": [
    {
     "data": {
      "text/plain": [
       "0    3.493636\n",
       "Name: 210093, dtype: float64"
      ]
     },
     "execution_count": 12,
     "metadata": {},
     "output_type": "execute_result"
    }
   ],
   "source": [
    "# experimental\n",
    "grades_df.iloc[int(n_simulations * .95)]"
   ]
  },
  {
   "cell_type": "code",
   "execution_count": 13,
   "id": "dfe78228",
   "metadata": {},
   "outputs": [
    {
     "data": {
      "text/plain": [
       "0    2.642642\n",
       "Name: 950000, dtype: float64"
      ]
     },
     "execution_count": 13,
     "metadata": {},
     "output_type": "execute_result"
    }
   ],
   "source": [
    "pd.DataFrame(grades.rvs(n_simulations)).iloc[int(n_simulations * .95)]"
   ]
  },
  {
   "cell_type": "code",
   "execution_count": 14,
   "id": "33c1e916",
   "metadata": {},
   "outputs": [
    {
     "data": {
      "text/plain": [
       "3.4934560880854417"
      ]
     },
     "execution_count": 14,
     "metadata": {},
     "output_type": "execute_result"
    }
   ],
   "source": [
    "# theoretical\n",
    "grades.ppf(.95)"
   ]
  },
  {
   "cell_type": "markdown",
   "id": "c5a3e15e",
   "metadata": {},
   "source": [
    "#### 2b. What GPA constitutes the bottom 15% of the class?"
   ]
  },
  {
   "cell_type": "code",
   "execution_count": 15,
   "id": "281e4c22",
   "metadata": {},
   "outputs": [
    {
     "data": {
      "text/plain": [
       "0    2.689361\n",
       "Name: 155931, dtype: float64"
      ]
     },
     "execution_count": 15,
     "metadata": {},
     "output_type": "execute_result"
    }
   ],
   "source": [
    "# experimental\n",
    "grades_df.iloc[int(n_simulations * .15)]"
   ]
  },
  {
   "cell_type": "code",
   "execution_count": 16,
   "id": "71bef50c",
   "metadata": {},
   "outputs": [
    {
     "data": {
      "text/plain": [
       "2.689069983151863"
      ]
     },
     "execution_count": 16,
     "metadata": {},
     "output_type": "execute_result"
    }
   ],
   "source": [
    "# theoretical\n",
    "grades.ppf(.15)"
   ]
  },
  {
   "cell_type": "markdown",
   "id": "9983b755",
   "metadata": {},
   "source": [
    "#### 2c. An eccentric alumnus left scholarship money for students in the third decile from the bottom of their class. Determine the range of the third decile. Would a student with a 2.8 grade point average qualify for this scholarship?"
   ]
  },
  {
   "cell_type": "code",
   "execution_count": 17,
   "id": "407356a1",
   "metadata": {},
   "outputs": [
    {
     "data": {
      "text/plain": [
       "True"
      ]
     },
     "execution_count": 17,
     "metadata": {},
     "output_type": "execute_result"
    }
   ],
   "source": [
    "# experiemntal \n",
    "min = grades_df.iloc[int(n_simulations * .2)][0]\n",
    "max = grades_df.iloc[int(n_simulations * .3)][0]\n",
    "gpa = 2.8\n",
    "\n",
    "2.8 > min and 2.8 < max"
   ]
  },
  {
   "cell_type": "code",
   "execution_count": 18,
   "id": "2dd1a320",
   "metadata": {},
   "outputs": [
    {
     "data": {
      "text/plain": [
       "True"
      ]
     },
     "execution_count": 18,
     "metadata": {},
     "output_type": "execute_result"
    }
   ],
   "source": [
    "# theoretical\n",
    "min = grades.ppf(.2)\n",
    "max = grades.ppf(.3)\n",
    "gpa = 2.8\n",
    "\n",
    "2.8 > min and 2.8 < max"
   ]
  },
  {
   "cell_type": "markdown",
   "id": "8d4784f7",
   "metadata": {},
   "source": [
    "#### 2d. If I have a GPA of 3.5, what percentile am I in?"
   ]
  },
  {
   "cell_type": "code",
   "execution_count": 19,
   "id": "c91feb6f",
   "metadata": {},
   "outputs": [],
   "source": [
    "# experimental\n"
   ]
  },
  {
   "cell_type": "code",
   "execution_count": 20,
   "id": "36cb5843",
   "metadata": {},
   "outputs": [
    {
     "data": {
      "text/plain": [
       "0.9522096477271853"
      ]
     },
     "execution_count": 20,
     "metadata": {},
     "output_type": "execute_result"
    }
   ],
   "source": [
    "# theoretical\n",
    "grades.cdf(3.5)"
   ]
  },
  {
   "cell_type": "markdown",
   "id": "af4dc45b",
   "metadata": {},
   "source": [
    "#### 3. A marketing website has an average click-through rate of 2%. One day they observe 4326 visitors and 97 click-throughs. How likely is it that this many people or more click through?\n"
   ]
  },
  {
   "cell_type": "code",
   "execution_count": 21,
   "id": "95fae41d",
   "metadata": {},
   "outputs": [],
   "source": [
    "n_simulations = 1_000_000\n",
    "n_trials = 4326\n",
    "p = .02"
   ]
  },
  {
   "cell_type": "code",
   "execution_count": 22,
   "id": "21f09668",
   "metadata": {},
   "outputs": [
    {
     "data": {
      "text/plain": [
       "0.139362"
      ]
     },
     "execution_count": 22,
     "metadata": {},
     "output_type": "execute_result"
    }
   ],
   "source": [
    "# experimental\n",
    "(stats.binom(n_trials, p).rvs(n_simulations) >= 97).mean()"
   ]
  },
  {
   "cell_type": "code",
   "execution_count": 23,
   "id": "c136f12a",
   "metadata": {},
   "outputs": [
    {
     "data": {
      "text/plain": [
       "0.13975823631416445"
      ]
     },
     "execution_count": 23,
     "metadata": {},
     "output_type": "execute_result"
    }
   ],
   "source": [
    "# theoretical\n",
    "stats.binom(n_trials, p).sf(96)"
   ]
  },
  {
   "cell_type": "markdown",
   "id": "fd1516f7",
   "metadata": {},
   "source": [
    "#### 4. You are working on some statistics homework consisting of 100 questions where all of the answers are a probability rounded to the hundreths place. Looking to save time, you put down random probabilities as the answer to each question. What is the probability that at least one of your first 60 answers is correct?\n"
   ]
  },
  {
   "cell_type": "code",
   "execution_count": 24,
   "id": "3e358cd0",
   "metadata": {},
   "outputs": [],
   "source": [
    "n_simulations = 1_000_000\n",
    "n_trials = 60\n",
    "p = 1/101"
   ]
  },
  {
   "cell_type": "code",
   "execution_count": 25,
   "id": "caa6cd54",
   "metadata": {},
   "outputs": [
    {
     "data": {
      "text/plain": [
       "0.450144"
      ]
     },
     "execution_count": 25,
     "metadata": {},
     "output_type": "execute_result"
    }
   ],
   "source": [
    "# experimental\n",
    "(stats.binom(n_trials, p).rvs(n_simulations) >= 1).mean()"
   ]
  },
  {
   "cell_type": "code",
   "execution_count": 26,
   "id": "d0404d55",
   "metadata": {},
   "outputs": [
    {
     "data": {
      "text/plain": [
       "0.44955038406224"
      ]
     },
     "execution_count": 26,
     "metadata": {},
     "output_type": "execute_result"
    }
   ],
   "source": [
    "# theoretical\n",
    "stats.binom(60, 1/101).sf(0)"
   ]
  },
  {
   "cell_type": "markdown",
   "id": "e81fabd2",
   "metadata": {},
   "source": [
    "#### 5. The codeup staff tends to get upset when the student break area is not cleaned up. Suppose that there's a 3% chance that any one student cleans the break area when they visit it, and, on any given day, about 90% of the 3 active cohorts of 22 students visit the break area. "
   ]
  },
  {
   "cell_type": "code",
   "execution_count": 27,
   "id": "ab5505c6",
   "metadata": {},
   "outputs": [],
   "source": [
    "n_simulations = 100_000\n",
    "n_trials = int((.9 * 3 * 22)) # number of students visit each day\n",
    "p = .03"
   ]
  },
  {
   "cell_type": "markdown",
   "id": "3e881e81",
   "metadata": {},
   "source": [
    "#### 5a. How likely is it that the break area gets cleaned up each day? "
   ]
  },
  {
   "cell_type": "code",
   "execution_count": 28,
   "id": "23663c03",
   "metadata": {},
   "outputs": [
    {
     "data": {
      "text/plain": [
       "0.83399"
      ]
     },
     "execution_count": 28,
     "metadata": {},
     "output_type": "execute_result"
    }
   ],
   "source": [
    "# experimental\n",
    "(stats.binom(n_trials, p).rvs(n_simulations) > 0).mean()"
   ]
  },
  {
   "cell_type": "code",
   "execution_count": 29,
   "id": "a554ed72",
   "metadata": {},
   "outputs": [
    {
     "data": {
      "text/plain": [
       "0.8342199288437352"
      ]
     },
     "execution_count": 29,
     "metadata": {},
     "output_type": "execute_result"
    }
   ],
   "source": [
    "# theoretical\n",
    "stats.binom(n_trials, p).sf(0)"
   ]
  },
  {
   "cell_type": "code",
   "execution_count": 30,
   "id": "d08b1b32",
   "metadata": {},
   "outputs": [
    {
     "data": {
      "text/plain": [
       "0.8342199288437355"
      ]
     },
     "execution_count": 30,
     "metadata": {},
     "output_type": "execute_result"
    }
   ],
   "source": [
    "# theoretical\n",
    "1 - stats.binom(n_trials, p).pmf(0)"
   ]
  },
  {
   "cell_type": "code",
   "execution_count": 31,
   "id": "4a7383df",
   "metadata": {},
   "outputs": [
    {
     "data": {
      "text/plain": [
       "0.8342199288437355"
      ]
     },
     "execution_count": 31,
     "metadata": {},
     "output_type": "execute_result"
    }
   ],
   "source": [
    "# theoretical\n",
    "1 - (.97 ** n_trials)"
   ]
  },
  {
   "cell_type": "markdown",
   "id": "30802de4",
   "metadata": {},
   "source": [
    "#### 5b. How likely is it that it goes two days without getting cleaned up? \n"
   ]
  },
  {
   "cell_type": "code",
   "execution_count": 32,
   "id": "8b46c04d",
   "metadata": {},
   "outputs": [],
   "source": [
    "days = 2"
   ]
  },
  {
   "cell_type": "code",
   "execution_count": 33,
   "id": "e0ff1ad8",
   "metadata": {},
   "outputs": [
    {
     "data": {
      "text/plain": [
       "0.02772"
      ]
     },
     "execution_count": 33,
     "metadata": {},
     "output_type": "execute_result"
    }
   ],
   "source": [
    "# experimental\n",
    "(stats.binom(n_trials * days, p).rvs(n_simulations) == 0).mean()"
   ]
  },
  {
   "cell_type": "code",
   "execution_count": 34,
   "id": "5b7ce77c",
   "metadata": {},
   "outputs": [
    {
     "data": {
      "text/plain": [
       "0.027483031992576134"
      ]
     },
     "execution_count": 34,
     "metadata": {},
     "output_type": "execute_result"
    }
   ],
   "source": [
    "# theoretical\n",
    "stats.binom(n_trials * days, p).pmf(0)"
   ]
  },
  {
   "cell_type": "code",
   "execution_count": 35,
   "id": "bc0556f8",
   "metadata": {},
   "outputs": [
    {
     "data": {
      "text/plain": [
       "0.027483031992576134"
      ]
     },
     "execution_count": 35,
     "metadata": {},
     "output_type": "execute_result"
    }
   ],
   "source": [
    "# theoretical\n",
    ".97 ** (n_trials * days)"
   ]
  },
  {
   "cell_type": "markdown",
   "id": "6fd87b6f",
   "metadata": {},
   "source": [
    "#### 5c. All week?"
   ]
  },
  {
   "cell_type": "code",
   "execution_count": 36,
   "id": "6fccda5a",
   "metadata": {},
   "outputs": [],
   "source": [
    "days = 5"
   ]
  },
  {
   "cell_type": "code",
   "execution_count": 37,
   "id": "9111d579",
   "metadata": {},
   "outputs": [
    {
     "data": {
      "text/plain": [
       "0.00012"
      ]
     },
     "execution_count": 37,
     "metadata": {},
     "output_type": "execute_result"
    }
   ],
   "source": [
    "# experimental\n",
    "(stats.binom(n_trials * days, p).rvs(n_simulations) == 0).mean()"
   ]
  },
  {
   "cell_type": "code",
   "execution_count": 38,
   "id": "0ae08e5b",
   "metadata": {},
   "outputs": [
    {
     "data": {
      "text/plain": [
       "0.00012521651388091245"
      ]
     },
     "execution_count": 38,
     "metadata": {},
     "output_type": "execute_result"
    }
   ],
   "source": [
    "# theoretical\n",
    "stats.binom(n_trials * days, p).pmf(0)"
   ]
  },
  {
   "cell_type": "code",
   "execution_count": 39,
   "id": "d3e7d77e",
   "metadata": {},
   "outputs": [
    {
     "data": {
      "text/plain": [
       "0.00012521651388091245"
      ]
     },
     "execution_count": 39,
     "metadata": {},
     "output_type": "execute_result"
    }
   ],
   "source": [
    "# theoretical\n",
    ".97 ** (n_trials * days)"
   ]
  },
  {
   "cell_type": "markdown",
   "id": "07b1995e",
   "metadata": {},
   "source": [
    "#### 6. You want to get lunch at La Panaderia, but notice that the line is usually very long at lunchtime. After several weeks of careful observation, you notice that the average number of people in line when your lunch break starts is normally distributed with a mean of 15 and standard deviation of 3. If it takes 2 minutes for each person to order, and 10 minutes from ordering to getting your food, what is the likelihood that you have at least 15 minutes left to eat your food before you have to go back to class? Assume you have one hour for lunch, and ignore travel time to and from La Panaderia.\n"
   ]
  },
  {
   "cell_type": "code",
   "execution_count": 40,
   "id": "c09c9c34",
   "metadata": {},
   "outputs": [],
   "source": [
    "μ = 15  # mean number of people in line at lunch start\n",
    "σ = 3   # std dev of number of people in line at lunch start\n",
    "\n",
    "order_time = 2  # 2 minutes for each person to order\n",
    "wait_time = 10  # 10 minutes from ordering to getting food\n",
    "lunch_time = 60 # 60 minute lunch break"
   ]
  },
  {
   "cell_type": "code",
   "execution_count": 41,
   "id": "bcba936e",
   "metadata": {},
   "outputs": [
    {
     "data": {
      "text/plain": [
       "0.99397"
      ]
     },
     "execution_count": 41,
     "metadata": {},
     "output_type": "execute_result"
    }
   ],
   "source": [
    "# experimental\n",
    "(stats.norm(μ * order_time, σ * order_time).rvs(n_simulations) <= (lunch_time - 15)).mean()"
   ]
  },
  {
   "cell_type": "code",
   "execution_count": 42,
   "id": "7e60bd66",
   "metadata": {},
   "outputs": [
    {
     "data": {
      "text/plain": [
       "0.9937903346742238"
      ]
     },
     "execution_count": 42,
     "metadata": {},
     "output_type": "execute_result"
    }
   ],
   "source": [
    "# theoretical\n",
    "stats.norm(μ * order_time, σ * order_time).cdf(lunch_time - 15)"
   ]
  },
  {
   "cell_type": "markdown",
   "id": "8d909ff4",
   "metadata": {},
   "source": [
    "#### 7. Connect to the employees database and find the average salary of current employees, along with the standard deviation. For the following questions, calculate the answer based on modeling the employees salaries with a normal distribution defined by the calculated mean and standard deviation then compare this answer to the actual values present in the salaries dataset."
   ]
  },
  {
   "cell_type": "code",
   "execution_count": 43,
   "id": "3c30e2a0",
   "metadata": {},
   "outputs": [],
   "source": [
    "from env import get_db_url, user, password, host"
   ]
  },
  {
   "cell_type": "code",
   "execution_count": 44,
   "id": "aca48f0d",
   "metadata": {},
   "outputs": [],
   "source": [
    "url = get_db_url('employees')\n",
    "sql = '''SELECT salary FROM salaries'''\n",
    "\n",
    "salaries = pd.DataFrame(pd.read_sql(sql, url))"
   ]
  },
  {
   "cell_type": "code",
   "execution_count": 45,
   "id": "4e02a2fd",
   "metadata": {},
   "outputs": [],
   "source": [
    "μ = salaries.mean()\n",
    "σ = salaries.std()"
   ]
  },
  {
   "cell_type": "markdown",
   "id": "0fa8034a",
   "metadata": {},
   "source": [
    "#### 7a. What percent of employees earn less than 60,000?"
   ]
  },
  {
   "cell_type": "code",
   "execution_count": 46,
   "id": "e4b28f0c",
   "metadata": {},
   "outputs": [
    {
     "data": {
      "text/plain": [
       "0.41082494791346336"
      ]
     },
     "execution_count": 46,
     "metadata": {},
     "output_type": "execute_result"
    }
   ],
   "source": [
    "# based on a theoretical normal distribution\n",
    "stats.norm(µ, σ).cdf(60_000)[0]"
   ]
  },
  {
   "cell_type": "code",
   "execution_count": 47,
   "id": "54e7e028",
   "metadata": {},
   "outputs": [
    {
     "data": {
      "text/plain": [
       "0.4739837281170107"
      ]
     },
     "execution_count": 47,
     "metadata": {},
     "output_type": "execute_result"
    }
   ],
   "source": [
    "# actual observed values\n",
    "len(salaries[salaries.salary < 60_000]) / len(salaries)"
   ]
  },
  {
   "cell_type": "markdown",
   "id": "3cfacec6",
   "metadata": {},
   "source": [
    "#### 7b. What percent of employees earn more than 95,000?"
   ]
  },
  {
   "cell_type": "code",
   "execution_count": 48,
   "id": "742330e4",
   "metadata": {},
   "outputs": [
    {
     "data": {
      "text/plain": [
       "0.03251945131024502"
      ]
     },
     "execution_count": 48,
     "metadata": {},
     "output_type": "execute_result"
    }
   ],
   "source": [
    "# based on normal distribution\n",
    "stats.norm(µ, σ).sf(95_000)[0]"
   ]
  },
  {
   "cell_type": "code",
   "execution_count": 49,
   "id": "e67a5f7a",
   "metadata": {},
   "outputs": [
    {
     "data": {
      "text/plain": [
       "0.053557131791422574"
      ]
     },
     "execution_count": 49,
     "metadata": {},
     "output_type": "execute_result"
    }
   ],
   "source": [
    "# actual observed values\n",
    "len(salaries[salaries.salary > 95_000]) / len(salaries)"
   ]
  },
  {
   "cell_type": "markdown",
   "id": "ad52768b",
   "metadata": {},
   "source": [
    "#### 7c. What percent of employees earn between 65,000 and 80,000?"
   ]
  },
  {
   "cell_type": "code",
   "execution_count": 50,
   "id": "ffc1f778",
   "metadata": {},
   "outputs": [
    {
     "data": {
      "text/plain": [
       "0.3589279495355246"
      ]
     },
     "execution_count": 50,
     "metadata": {},
     "output_type": "execute_result"
    }
   ],
   "source": [
    "# based on a normal distribution\n",
    "(stats.norm(µ, σ).cdf(80_000)[0]\n",
    "- stats.norm(µ, σ).sf(65_000)[0])"
   ]
  },
  {
   "cell_type": "code",
   "execution_count": 51,
   "id": "d16e2e11",
   "metadata": {},
   "outputs": [
    {
     "name": "stderr",
     "output_type": "stream",
     "text": [
      "/var/folders/zb/3lg9b5xn3831bhkh23bd5bs00000gn/T/ipykernel_69566/492890421.py:2: UserWarning: Boolean Series key will be reindexed to match DataFrame index.\n",
      "  len(salaries[salaries.salary >= 65_000]\n"
     ]
    },
    {
     "data": {
      "text/plain": [
       "0.24330786375893226"
      ]
     },
     "execution_count": 51,
     "metadata": {},
     "output_type": "execute_result"
    }
   ],
   "source": [
    "# actual observed values \n",
    "len(salaries[salaries.salary >= 65_000]\n",
    "            [salaries.salary <= 80_000]) / len(salaries)"
   ]
  },
  {
   "cell_type": "markdown",
   "id": "773be09e",
   "metadata": {},
   "source": [
    "#### 7d. What do the top 5% of employees make?"
   ]
  },
  {
   "cell_type": "code",
   "execution_count": 52,
   "id": "bc6789f8",
   "metadata": {},
   "outputs": [
    {
     "data": {
      "text/plain": [
       "91616.71784707882"
      ]
     },
     "execution_count": 52,
     "metadata": {},
     "output_type": "execute_result"
    }
   ],
   "source": [
    "# based on a normal distribution\n",
    "stats.norm(µ, σ).isf(.05)[0]"
   ]
  },
  {
   "cell_type": "code",
   "execution_count": 53,
   "id": "99d5c3c0",
   "metadata": {},
   "outputs": [
    {
     "data": {
      "text/plain": [
       "95761"
      ]
     },
     "execution_count": 53,
     "metadata": {},
     "output_type": "execute_result"
    }
   ],
   "source": [
    "# actual observed values\n",
    "idx_95 = int(len(salaries) * .95 - 1) # 95th percentile index\n",
    "salaries.sort_values(by='salary').iloc[idx_95:].min()[0]"
   ]
  }
 ],
 "metadata": {
  "kernelspec": {
   "display_name": "Python 3 (ipykernel)",
   "language": "python",
   "name": "python3"
  },
  "language_info": {
   "codemirror_mode": {
    "name": "ipython",
    "version": 3
   },
   "file_extension": ".py",
   "mimetype": "text/x-python",
   "name": "python",
   "nbconvert_exporter": "python",
   "pygments_lexer": "ipython3",
   "version": "3.9.7"
  }
 },
 "nbformat": 4,
 "nbformat_minor": 5
}
