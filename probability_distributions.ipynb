{
 "cells": [
  {
   "cell_type": "code",
   "execution_count": 1,
   "id": "6528fc61",
   "metadata": {},
   "outputs": [],
   "source": [
    "import matplotlib.pyplot as plt\n",
    "import numpy as np\n",
    "from scipy import stats\n",
    "\n",
    "np.random.seed(123)"
   ]
  },
  {
   "cell_type": "markdown",
   "id": "8fd8c714",
   "metadata": {},
   "source": [
    "#### 1. A bank found that the average number of cars waiting during the noon hour at a drive-up window follows a Poisson distribution with a mean of 2 cars. Make a chart of this distribution and answer these questions concerning the probability of cars waiting at the drive-up window."
   ]
  },
  {
   "cell_type": "code",
   "execution_count": 2,
   "id": "0dab297b",
   "metadata": {},
   "outputs": [
    {
     "data": {
      "image/png": "[encoded data removed]",
      "text/plain": [
       "<Figure size 432x288 with 1 Axes>"
      ]
     },
     "metadata": {
      "needs_background": "light"
     },
     "output_type": "display_data"
    }
   ],
   "source": [
    "x = stats.poisson(2).rvs(10000)\n",
    "plt.hist(x, bins=range(0, 9), align='left', width=1, edgecolor='black')\n",
    "plt.show()"
   ]
  },
  {
   "cell_type": "markdown",
   "id": "8d84c3b4",
   "metadata": {},
   "source": [
    "#### 1a. What is the probability that no cars drive up in the noon hour?"
   ]
  },
  {
   "cell_type": "code",
   "execution_count": 3,
   "id": "1a7aa905",
   "metadata": {},
   "outputs": [
    {
     "data": {
      "text/plain": [
       "0.1353352832366127"
      ]
     },
     "execution_count": 3,
     "metadata": {},
     "output_type": "execute_result"
    }
   ],
   "source": [
    "stats.poisson(2).pmf(0)"
   ]
  },
  {
   "cell_type": "markdown",
   "id": "5bb43651",
   "metadata": {},
   "source": [
    "#### 1b. What is the probability that 3 or more cars come through the drive through?"
   ]
  },
  {
   "cell_type": "code",
   "execution_count": 4,
   "id": "d06c97a0",
   "metadata": {},
   "outputs": [
    {
     "data": {
      "text/plain": [
       "0.32332358381693654"
      ]
     },
     "execution_count": 4,
     "metadata": {},
     "output_type": "execute_result"
    }
   ],
   "source": [
    "stats.poisson(2).sf(2)"
   ]
  },
  {
   "cell_type": "markdown",
   "id": "0933bebb",
   "metadata": {},
   "source": [
    "#### How likely is it that the drive through gets at least 1 car?"
   ]
  },
  {
   "cell_type": "code",
   "execution_count": 5,
   "id": "4d93092f",
   "metadata": {},
   "outputs": [
    {
     "data": {
      "text/plain": [
       "0.8646647167633873"
      ]
     },
     "execution_count": 5,
     "metadata": {},
     "output_type": "execute_result"
    }
   ],
   "source": [
    "stats.poisson(2).sf(0)"
   ]
  },
  {
   "cell_type": "markdown",
   "id": "8b872ac0",
   "metadata": {},
   "source": [
    "#### 2. Grades of State University graduates are normally distributed with a mean of 3.0 and a standard deviation of .3. Calculate the following:"
   ]
  },
  {
   "cell_type": "code",
   "execution_count": 6,
   "id": "26ca4ab3",
   "metadata": {},
   "outputs": [],
   "source": [
    "μ = 3\n",
    "σ = .3"
   ]
  },
  {
   "cell_type": "code",
   "execution_count": 7,
   "id": "2baff0b7",
   "metadata": {},
   "outputs": [],
   "source": [
    "grades = stats.norm(μ, σ)"
   ]
  },
  {
   "cell_type": "markdown",
   "id": "efc4d6ac",
   "metadata": {},
   "source": [
    "#### 2a. What grade point average is required to be in the top 5% of the graduating class?"
   ]
  },
  {
   "cell_type": "code",
   "execution_count": 8,
   "id": "7788c087",
   "metadata": {},
   "outputs": [
    {
     "data": {
      "text/plain": [
       "3.4934560880854417"
      ]
     },
     "execution_count": 8,
     "metadata": {},
     "output_type": "execute_result"
    }
   ],
   "source": [
    "grades.ppf(.95)"
   ]
  },
  {
   "cell_type": "markdown",
   "id": "c06e9d0e",
   "metadata": {},
   "source": [
    "#### 2b. What GPA constitutes the bottom 15% of the class?"
   ]
  },
  {
   "cell_type": "code",
   "execution_count": 9,
   "id": "233be9c2",
   "metadata": {},
   "outputs": [
    {
     "data": {
      "text/plain": [
       "2.689069983151863"
      ]
     },
     "execution_count": 9,
     "metadata": {},
     "output_type": "execute_result"
    }
   ],
   "source": [
    "grades.ppf(.15)"
   ]
  },
  {
   "cell_type": "markdown",
   "id": "fd3bb83d",
   "metadata": {},
   "source": [
    "#### 2c. An eccentric alumnus left scholarship money for students in the third decile from the bottom of their class. Determine the range of the third decile. Would a student with a 2.8 grade point average qualify for this scholarship?"
   ]
  },
  {
   "cell_type": "code",
   "execution_count": 10,
   "id": "85e43827",
   "metadata": {},
   "outputs": [
    {
     "data": {
      "text/plain": [
       "True"
      ]
     },
     "execution_count": 10,
     "metadata": {},
     "output_type": "execute_result"
    }
   ],
   "source": [
    "# third decile = .2 - .3\n",
    "\n",
    "min = grades.ppf(.2)\n",
    "max = grades.ppf(.3)\n",
    "gpa = 2.8\n",
    "\n",
    "2.8 > min and 2.8 < max"
   ]
  },
  {
   "cell_type": "markdown",
   "id": "7d0495d7",
   "metadata": {},
   "source": [
    "#### 2d. If I have a GPA of 3.5, what percentile am I in?"
   ]
  },
  {
   "cell_type": "code",
   "execution_count": 11,
   "id": "2c186e7f",
   "metadata": {},
   "outputs": [
    {
     "data": {
      "text/plain": [
       "0.9522096477271853"
      ]
     },
     "execution_count": 11,
     "metadata": {},
     "output_type": "execute_result"
    }
   ],
   "source": [
    "grades.cdf(3.5)"
   ]
  },
  {
   "cell_type": "markdown",
   "id": "23e041e5",
   "metadata": {},
   "source": [
    "#### 3. A marketing website has an average click-through rate of 2%. One day they observe 4326 visitors and 97 click-throughs. How likely is it that this many people or more click through?\n"
   ]
  },
  {
   "cell_type": "code",
   "execution_count": 12,
   "id": "fbf46a4c",
   "metadata": {},
   "outputs": [
    {
     "data": {
      "text/plain": [
       "0.18126924692201815"
      ]
     },
     "execution_count": 12,
     "metadata": {},
     "output_type": "execute_result"
    }
   ],
   "source": [
    "stats.poisson(.2).sf(97/4326)"
   ]
  },
  {
   "cell_type": "markdown",
   "id": "952dff26",
   "metadata": {},
   "source": [
    "#### 4. You are working on some statistics homework consisting of 100 questions where all of the answers are a probability rounded to the hundreths place. Looking to save time, you put down random probabilities as the answer to each question. What is the probability that at least one of your first 60 answers is correct?\n"
   ]
  },
  {
   "cell_type": "code",
   "execution_count": 13,
   "id": "394c61a4",
   "metadata": {},
   "outputs": [
    {
     "data": {
      "text/plain": [
       "0.44955038406224"
      ]
     },
     "execution_count": 13,
     "metadata": {},
     "output_type": "execute_result"
    }
   ],
   "source": [
    "stats.binom(60, 1/101).sf(0)"
   ]
  },
  {
   "cell_type": "markdown",
   "id": "acfceb3a",
   "metadata": {},
   "source": [
    "#### 5. The codeup staff tends to get upset when the student break area is not cleaned up. Suppose that there's a 3% chance that any one student cleans the break area when they visit it, and, on any given day, about 90% of the 3 active cohorts of 22 students visit the break area. \n",
    "\n",
    "#### 5a. How likely is it that the break area gets cleaned up each day? "
   ]
  },
  {
   "cell_type": "code",
   "execution_count": null,
   "id": "38f75be7",
   "metadata": {},
   "outputs": [],
   "source": [
    "n_students = (.9 * 3 * 22)\n",
    "p = .03"
   ]
  },
  {
   "cell_type": "code",
   "execution_count": null,
   "id": "490c0ccd",
   "metadata": {},
   "outputs": [],
   "source": [
    "stats.binom(n_students, p)"
   ]
  },
  {
   "cell_type": "markdown",
   "id": "f432a7d2",
   "metadata": {},
   "source": [
    "#### 5b. How likely is it that it goes two days without getting cleaned up? \n"
   ]
  },
  {
   "cell_type": "code",
   "execution_count": null,
   "id": "c79b9b67",
   "metadata": {},
   "outputs": [],
   "source": []
  },
  {
   "cell_type": "markdown",
   "id": "615608c5",
   "metadata": {},
   "source": [
    "#### 5c. All week?"
   ]
  },
  {
   "cell_type": "code",
   "execution_count": null,
   "id": "e68be899",
   "metadata": {},
   "outputs": [],
   "source": []
  },
  {
   "cell_type": "markdown",
   "id": "2d455e63",
   "metadata": {},
   "source": [
    "#### 6. You want to get lunch at La Panaderia, but notice that the line is usually very long at lunchtime. After several weeks of careful observation, you notice that the average number of people in line when your lunch break starts is normally distributed with a mean of 15 and standard deviation of 3. If it takes 2 minutes for each person to order, and 10 minutes from ordering to getting your food, what is the likelihood that you have at least 15 minutes left to eat your food before you have to go back to class? Assume you have one hour for lunch, and ignore travel time to and from La Panaderia.\n"
   ]
  },
  {
   "cell_type": "code",
   "execution_count": null,
   "id": "7d72812c",
   "metadata": {},
   "outputs": [],
   "source": [
    "45min or less have passed. "
   ]
  },
  {
   "cell_type": "markdown",
   "id": "b69a1bdf",
   "metadata": {},
   "source": [
    "#### 7. Connect to the employees database and find the average salary of current employees, along with the standard deviation. For the following questions, calculate the answer based on modeling the employees salaries with a normal distribution defined by the calculated mean and standard deviation then compare this answer to the actual values present in the salaries dataset."
   ]
  },
  {
   "cell_type": "code",
   "execution_count": 14,
   "id": "b5dd096e",
   "metadata": {},
   "outputs": [],
   "source": [
    "from env import get_db_url, user, password, host"
   ]
  },
  {
   "cell_type": "code",
   "execution_count": null,
   "id": "c4bff585",
   "metadata": {},
   "outputs": [],
   "source": []
  },
  {
   "cell_type": "markdown",
   "id": "65c7ce63",
   "metadata": {},
   "source": [
    "#### 7a. What percent of employees earn less than 60,000?"
   ]
  },
  {
   "cell_type": "markdown",
   "id": "49104317",
   "metadata": {},
   "source": [
    "#### 7b. What percent of employees earn more than 95,000?"
   ]
  },
  {
   "cell_type": "markdown",
   "id": "16216874",
   "metadata": {},
   "source": [
    "#### 7c. What percent of employees earn between 65,000 and 80,000?"
   ]
  },
  {
   "cell_type": "markdown",
   "id": "1f5d8c62",
   "metadata": {},
   "source": [
    "#### 7d. What do the top 5% of employees make?"
   ]
  },
  {
   "cell_type": "code",
   "execution_count": null,
   "id": "ac75d22c",
   "metadata": {},
   "outputs": [],
   "source": []
  }
 ],
 "metadata": {
  "kernelspec": {
   "display_name": "Python 3 (ipykernel)",
   "language": "python",
   "name": "python3"
  },
  "language_info": {
   "codemirror_mode": {
    "name": "ipython",
    "version": 3
   },
   "file_extension": ".py",
   "mimetype": "text/x-python",
   "name": "python",
   "nbconvert_exporter": "python",
   "pygments_lexer": "ipython3",
   "version": "3.9.7"
  }
 },
 "nbformat": 4,
 "nbformat_minor": 5
}
