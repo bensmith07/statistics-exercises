{
 "cells": [
  {
   "cell_type": "code",
   "execution_count": 1,
   "id": "f6f0a139",
   "metadata": {},
   "outputs": [],
   "source": [
    "import numpy as np\n",
    "import pandas as pd"
   ]
  },
  {
   "cell_type": "code",
   "execution_count": 2,
   "id": "ae04f269",
   "metadata": {},
   "outputs": [],
   "source": [
    "def wiz1_get_hp():\n",
    "    return np.random.choice([1,2,3,4], size=6).sum()\n",
    "\n",
    "def wiz1_attack():\n",
    "    return wiz1_get_hp()\n",
    "    \n",
    "def wiz2_get_hp():\n",
    "    return np.random.choice([1,2,3,4], size=4).sum()\n",
    "\n",
    "def wiz2_attack():\n",
    "    return wiz2_get_hp()"
   ]
  },
  {
   "cell_type": "code",
   "execution_count": 4,
   "id": "df1834db",
   "metadata": {},
   "outputs": [
    {
     "name": "stdout",
     "output_type": "stream",
     "text": [
      "Out of 10000 duels\n",
      "Wizard 1: 8479\n",
      "Wizard 2: 58\n",
      "Ties: 1463\n"
     ]
    }
   ],
   "source": [
    "win_list = []\n",
    "n_simulations = 10_000\n",
    "\n",
    "for i in range(n_simulations):\n",
    "\n",
    "    wiz1_hp = wiz1_get_hp()\n",
    "    wiz2_hp = wiz2_get_hp()\n",
    "\n",
    "    while wiz1_hp > 0 and wiz2_hp > 0:\n",
    "        wiz2_hp -= wiz1_attack()\n",
    "        wiz1_hp -= wiz2_attack()\n",
    "\n",
    "    if wiz1_hp > 0 and wiz1_hp > wiz2_hp:\n",
    "        win_list.append(1)\n",
    "    elif wiz2_hp > 0 and wiz2_hp > wiz1_hp:\n",
    "        win_list.append(2)\n",
    "    else:\n",
    "        win_list.append(3)   # 3 represents a tie\n",
    "        \n",
    "win_list = pd.DataFrame(np.array(win_list))\n",
    "\n",
    "print(f'Out of {n_simulations} duels')\n",
    "\n",
    "if 1 in win_list.value_counts():\n",
    "    print(f'Wizard 1: {win_list.value_counts()[1]}')\n",
    "if 2 in win_list.value_counts():\n",
    "    print(f'Wizard 2: {win_list.value_counts()[2]}')\n",
    "if 3 in win_list.value_counts():\n",
    "    print(f'Ties: {win_list.value_counts()[3]}')"
   ]
  },
  {
   "cell_type": "code",
   "execution_count": null,
   "id": "4f507efd",
   "metadata": {},
   "outputs": [],
   "source": []
  }
 ],
 "metadata": {
  "kernelspec": {
   "display_name": "Python 3 (ipykernel)",
   "language": "python",
   "name": "python3"
  },
  "language_info": {
   "codemirror_mode": {
    "name": "ipython",
    "version": 3
   },
   "file_extension": ".py",
   "mimetype": "text/x-python",
   "name": "python",
   "nbconvert_exporter": "python",
   "pygments_lexer": "ipython3",
   "version": "3.9.7"
  }
 },
 "nbformat": 4,
 "nbformat_minor": 5
}
