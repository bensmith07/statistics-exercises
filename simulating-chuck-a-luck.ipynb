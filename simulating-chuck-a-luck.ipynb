{
 "cells": [
  {
   "cell_type": "markdown",
   "id": "c2e30ba5",
   "metadata": {},
   "source": [
    "# Simulating Chuck a Luck\n",
    "\n",
    "## \"Pay a Buck and Chuck-a-Luck\" \n",
    "\n",
    "[Chuck-a-Luck](https://en.wikipedia.org/wiki/Chuck-a-luck) is a game of chance often associated with charity fundraisers or street gambling rather than casinos. \n",
    "\n",
    "To play, the House says, \"Pay \\\\$1, pick a number and roll 3 dice. If any of those dice come up, you'll win \\\\$1, \\\\$2, or \\\\$3\". \n",
    "\n",
    "> \"It's even odds\", they say, \"because the probability of rolling your number is 1/6 and you get to roll 3 dice! 1/6 + 1/6 + 1/6 is 3/6 which is 1/2\". \n",
    "\n",
    "You know better than this, so it's time to make an experiment to approximate the actual risk and payoff...\n",
    "\n",
    "Rules:\n",
    "- The player pays \\\\$1 to play and picks a number.\n",
    "- The House rolls 3 dice at once.\n",
    "\n",
    "- Payouts:\n",
    "  - \\\\$3 if all three dice match the chosen number\n",
    "  - \\\\$2 if exactly two dice match the chosen number\n",
    "  - \\\\$1 is exactly one of the dice matches the chosen number\n",
    "  - If none of the dice match the player's chosen number, then the House keeps the \\\\$1.\n",
    "\n",
    "Exercises:\n",
    "- What are your chances of getting an outcome payout of \\\\$2? (where we earned \\\\$3 on the \\\\$1 ante)\n",
    "- What are your chances of getting an payout of \\\\$1?\n",
    "- What are your chances of getting a payout of $0 where you ante \\\\$1 and win \\\\$1?\n",
    "- What are your chances of getting a payout of -\\\\$1 where you ante up, but don't win anything?\n",
    "- What is the average cost/gain per game? (think of averaging the total payout calculation across all simulations)\n",
    "\n",
    "- Chart out a histogram of all the outcomes of those 1,000,000 games\n",
    "- Is this really a fair game of 1/6 + 1/6 + 1/6 odds?\n",
    "- If you play 1,000,000 games in a row, what are your winnings/losses?\n"
   ]
  },
  {
   "cell_type": "code",
   "execution_count": 1,
   "id": "744585b7",
   "metadata": {},
   "outputs": [],
   "source": [
    "import numpy as np\n",
    "import pandas as pd\n",
    "import matplotlib.pyplot as plt"
   ]
  },
  {
   "cell_type": "code",
   "execution_count": 2,
   "id": "cd2bda69",
   "metadata": {},
   "outputs": [],
   "source": [
    "def chuckaluck(n_sims=10_000):\n",
    "    n_simulations = n_sims # number of times to play the game\n",
    "    n_trials = 3           # number of dice rolled \n",
    "    choice = 1             # number the player chooses\n",
    "\n",
    "\n",
    "    results = pd.DataFrame(np.random.choice([1,2,3,4,5,6], \n",
    "                                            size=(n_simulations * n_trials)).reshape(n_simulations, n_trials))\n",
    "\n",
    "    return results.apply(lambda row: sum([1 for elem in row.values if elem == 1]), axis=1)\n",
    "    \n",
    "bet = 1   # amount wagered each game\n",
    "win = 1   # amount won for each dice that matches `choice`"
   ]
  },
  {
   "cell_type": "markdown",
   "id": "d46e825a",
   "metadata": {},
   "source": [
    "#### What are your chances of getting an outcome payout of 2 dollars (where we earned 3 dollars on the 1 dollar ante)?\n"
   ]
  },
  {
   "cell_type": "code",
   "execution_count": 3,
   "id": "f1e7f341",
   "metadata": {},
   "outputs": [
    {
     "data": {
      "text/plain": [
       "0.0045"
      ]
     },
     "execution_count": 3,
     "metadata": {},
     "output_type": "execute_result"
    }
   ],
   "source": [
    "results = chuckaluck()\n",
    "payout = results * win - bet\n",
    "(payout == 2).mean()"
   ]
  },
  {
   "cell_type": "code",
   "execution_count": 4,
   "id": "06412c1c",
   "metadata": {},
   "outputs": [
    {
     "data": {
      "text/plain": [
       "0.0043"
      ]
     },
     "execution_count": 4,
     "metadata": {},
     "output_type": "execute_result"
    }
   ],
   "source": [
    "# as one line of code:\n",
    "((chuckaluck() * win - bet) == 2).mean()"
   ]
  },
  {
   "cell_type": "markdown",
   "id": "77807850",
   "metadata": {},
   "source": [
    "#### What are your chances of getting an payout of $1?\n"
   ]
  },
  {
   "cell_type": "code",
   "execution_count": 5,
   "id": "ded0b264",
   "metadata": {},
   "outputs": [
    {
     "data": {
      "text/plain": [
       "0.073"
      ]
     },
     "execution_count": 5,
     "metadata": {},
     "output_type": "execute_result"
    }
   ],
   "source": [
    "((chuckaluck() * win - bet) == 1).mean()"
   ]
  },
  {
   "cell_type": "markdown",
   "id": "cd57ddae",
   "metadata": {},
   "source": [
    "#### What are your chances of getting a payout of 0, where you ante 1 and win 1?\n"
   ]
  },
  {
   "cell_type": "code",
   "execution_count": 6,
   "id": "2f986c7d",
   "metadata": {},
   "outputs": [
    {
     "data": {
      "text/plain": [
       "0.352"
      ]
     },
     "execution_count": 6,
     "metadata": {},
     "output_type": "execute_result"
    }
   ],
   "source": [
    "((chuckaluck() * win - bet) == 0).mean()"
   ]
  },
  {
   "cell_type": "markdown",
   "id": "bea7705e",
   "metadata": {},
   "source": [
    "#### What are your chances of getting a payout of -1, where you ante up, but don't win anything?\n"
   ]
  },
  {
   "cell_type": "code",
   "execution_count": 7,
   "id": "bcffe280",
   "metadata": {},
   "outputs": [
    {
     "data": {
      "text/plain": [
       "0.5785"
      ]
     },
     "execution_count": 7,
     "metadata": {},
     "output_type": "execute_result"
    }
   ],
   "source": [
    "((chuckaluck() * win - bet) == -1).mean()"
   ]
  },
  {
   "cell_type": "markdown",
   "id": "5c50df3b",
   "metadata": {},
   "source": [
    "#### What is the average cost/gain per game? (think of averaging the total payout calculation across all simulations)\n"
   ]
  },
  {
   "cell_type": "code",
   "execution_count": 8,
   "id": "fc74c028",
   "metadata": {},
   "outputs": [
    {
     "data": {
      "text/plain": [
       "-0.5044"
      ]
     },
     "execution_count": 8,
     "metadata": {},
     "output_type": "execute_result"
    }
   ],
   "source": [
    "expected_payout = (chuckaluck() * win - bet).mean()\n",
    "expected_payout"
   ]
  },
  {
   "cell_type": "markdown",
   "id": "795b5eb7",
   "metadata": {},
   "source": [
    "####  If you play 1,000,000 games in a row, what are your winnings/losses?\n"
   ]
  },
  {
   "cell_type": "code",
   "execution_count": 14,
   "id": "de1a719f",
   "metadata": {},
   "outputs": [
    {
     "data": {
      "text/plain": [
       "-500558"
      ]
     },
     "execution_count": 14,
     "metadata": {},
     "output_type": "execute_result"
    }
   ],
   "source": [
    "payout = (chuckaluck(n_sims=1_000_000) * win - bet).sum()\n",
    "payout"
   ]
  },
  {
   "cell_type": "markdown",
   "id": "e050948c",
   "metadata": {},
   "source": [
    "#### Chart out a histogram of all the outcomes of those 1,000,000 games\n"
   ]
  },
  {
   "cell_type": "code",
   "execution_count": 10,
   "id": "42187229",
   "metadata": {},
   "outputs": [
    {
     "data": {
      "image/png": "[encoded data removed]",
      "text/plain": [
       "<Figure size 432x288 with 1 Axes>"
      ]
     },
     "metadata": {
      "needs_background": "light"
     },
     "output_type": "display_data"
    }
   ],
   "source": [
    "# Histogram for number of times player's choice shows up on the dice\n",
    "\n",
    "n_simulations = 1_000_000\n",
    "chuckaluck1 = chuckaluck(n_sims=n_simulations)\n",
    "\n",
    "freq, bins = np.histogram(chuckaluck1, bins=range(5))\n",
    "freq = freq / freq.sum() # raw number -> percent\n",
    "plt.bar(bins[:-1], freq, width=1, color='lightblue', edgecolor='black')\n",
    "# plt.bar(bins[-8:-1], freq[-7:], width=1, color='lightblue', edgecolor='black')\n",
    "\n",
    "plt.xticks(range(4))\n",
    "plt.ylabel('% of the time we get this result')\n",
    "plt.xlabel('Number of dice that match player\\'s choice')\n",
    "\n",
    "num_rolls = '{:,}'.format(len(chuckaluck1))\n",
    "plt.title(f'Based on {num_rolls} simulations')\n",
    "plt.xlim(-1, 4)\n",
    "plt.show()"
   ]
  },
  {
   "cell_type": "code",
   "execution_count": 11,
   "id": "e142d977",
   "metadata": {},
   "outputs": [
    {
     "data": {
      "image/png": "[encoded data removed]",
      "text/plain": [
       "<Figure size 432x288 with 1 Axes>"
      ]
     },
     "metadata": {
      "needs_background": "light"
     },
     "output_type": "display_data"
    }
   ],
   "source": [
    "# Histogram for the payout of each game\n",
    "\n",
    "n_simulations = 1_000_000\n",
    "\n",
    "payout = (chuckaluck(n_sims=n_simulations) * win - bet)\n",
    "\n",
    "freq, bins = np.histogram(payout, bins=range(-1,4))\n",
    "freq = freq / freq.sum() # raw number -> percent\n",
    "plt.bar(bins[:-1], freq, width=1, color='lightblue', edgecolor='black')\n",
    "# plt.bar(bins[-8:-1], freq[-7:], width=1, color='lightblue', edgecolor='black')\n",
    "\n",
    "plt.xticks(range(-1,3))\n",
    "plt.ylabel('% of the time we get this result')\n",
    "plt.xlabel('Total Payout in $')\n",
    "\n",
    "num_rolls = '{:,}'.format(len(payout))\n",
    "plt.title(f'Based on {num_rolls} simulations')\n",
    "plt.xlim(-2, 3)\n",
    "plt.show()"
   ]
  },
  {
   "cell_type": "markdown",
   "id": "fd9ba24e",
   "metadata": {},
   "source": [
    "#### Is this really a fair game of 1/6 + 1/6 + 1/6 odds?\n"
   ]
  },
  {
   "cell_type": "markdown",
   "id": "303759e7",
   "metadata": {},
   "source": [
    "No. As demonstrated above, your expected payout of each game is a loss of approximately 0.50. If it were even odds, the expected payout would be 0. \n",
    "\n",
    "Additionally, the odds of at least one die matching the player's choice can be calculated like so:"
   ]
  },
  {
   "cell_type": "code",
   "execution_count": 12,
   "id": "0d95b8cf",
   "metadata": {},
   "outputs": [
    {
     "data": {
      "text/plain": [
       "0.42129629629629617"
      ]
     },
     "execution_count": 12,
     "metadata": {},
     "output_type": "execute_result"
    }
   ],
   "source": [
    "1 - (5/6)**3"
   ]
  },
  {
   "cell_type": "markdown",
   "id": "087ad4ef",
   "metadata": {},
   "source": [
    "Since this is less than .5, we know this game does not have even odds"
   ]
  }
 ],
 "metadata": {
  "kernelspec": {
   "display_name": "Python 3 (ipykernel)",
   "language": "python",
   "name": "python3"
  },
  "language_info": {
   "codemirror_mode": {
    "name": "ipython",
    "version": 3
   },
   "file_extension": ".py",
   "mimetype": "text/x-python",
   "name": "python",
   "nbconvert_exporter": "python",
   "pygments_lexer": "ipython3",
   "version": "3.9.7"
  }
 },
 "nbformat": 4,
 "nbformat_minor": 5
}
