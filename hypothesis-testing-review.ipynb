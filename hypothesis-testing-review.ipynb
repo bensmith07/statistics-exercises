{
 "cells": [
  {
   "cell_type": "code",
   "execution_count": 2,
   "id": "a951f777",
   "metadata": {},
   "outputs": [],
   "source": [
    "import pandas as pd\n",
    "import numpy as np\n",
    "import matplotlib.pyplot as plt\n",
    "import scipy.stats as stats\n",
    "import seaborn as sns\n",
    "from pydataset import data\n",
    "from datetime import date\n",
    "import warnings\n",
    "warnings.simplefilter(action='ignore', category=FutureWarning)\n",
    "from env import get_db_url, user, password, host"
   ]
  },
  {
   "cell_type": "markdown",
   "id": "5a26c5e6",
   "metadata": {},
   "source": [
    "# CORRELATION TEST \n",
    "### (PEARSON'S R)"
   ]
  },
  {
   "cell_type": "markdown",
   "id": "d6c466cd",
   "metadata": {},
   "source": [
    "#### Use the sleepstudy data. \n",
    "\n",
    "#### Is there a relationship between days and reaction time?¶\n"
   ]
  },
  {
   "cell_type": "code",
   "execution_count": 3,
   "id": "13cd4b21",
   "metadata": {},
   "outputs": [],
   "source": [
    "sleepstudy = data('sleepstudy')"
   ]
  },
  {
   "cell_type": "code",
   "execution_count": 4,
   "id": "536a9b5c",
   "metadata": {},
   "outputs": [
    {
     "data": {
      "image/png": "[encoded data removed]",
      "text/plain": [
       "<Figure size 360x360 with 1 Axes>"
      ]
     },
     "metadata": {
      "needs_background": "light"
     },
     "output_type": "display_data"
    }
   ],
   "source": [
    "# STEP 2: visualize\n",
    "sns.relplot(sleepstudy.Days, sleepstudy.Reaction)\n",
    "plt.show()"
   ]
  },
  {
   "cell_type": "code",
   "execution_count": 5,
   "id": "5d47c0d9",
   "metadata": {},
   "outputs": [],
   "source": [
    "# STEP 3: Establish hypotheses\n",
    "\n",
    "# H0: There is no linear relationship between days and reaction time\n",
    "# H1: There is a linear relationship between days and reaction time"
   ]
  },
  {
   "cell_type": "code",
   "execution_count": 8,
   "id": "6772bf32",
   "metadata": {},
   "outputs": [
    {
     "data": {
      "text/plain": [
       "(0.5352302262650253, 9.894096322214812e-15)"
      ]
     },
     "execution_count": 8,
     "metadata": {},
     "output_type": "execute_result"
    }
   ],
   "source": [
    "# STEP 3: perform the test\n",
    "\n",
    "alpha = .05\n",
    "\n",
    "r, p = stats.pearsonr(sleepstudy.Days, sleepstudy.Reaction)\n",
    "r, p"
   ]
  },
  {
   "cell_type": "code",
   "execution_count": 9,
   "id": "7d619836",
   "metadata": {},
   "outputs": [
    {
     "name": "stdout",
     "output_type": "stream",
     "text": [
      "Reject H0\n"
     ]
    }
   ],
   "source": [
    "# STEP 4: Evaluate, come to conclusion\n",
    "\n",
    "if p < alpha:\n",
    "    print('Reject H0')\n",
    "else: \n",
    "    print('Fail to reject H0')"
   ]
  },
  {
   "cell_type": "markdown",
   "id": "57e7e687",
   "metadata": {},
   "source": [
    "#### conclusions: \n",
    "\n",
    "Since p is less than alpha, we reject the null hypothesis that there is no linear correlation between the two variables.\n",
    "\n",
    "Meaning: there is (probably) a linear correlation between the two variables. \n",
    "\n",
    "We come to this conclusion because, in a world where there ACTUALLY IS NO correlation, there is LESS THAN A 5% (alpha) chance that we would obtain a sample with a correlation AT LEAST AS STRONG as the one we tested here. "
   ]
  },
  {
   "cell_type": "markdown",
   "id": "031076e6",
   "metadata": {},
   "source": [
    "# T-Test, 1-Sample, Two-Tailed"
   ]
  },
  {
   "cell_type": "markdown",
   "id": "b7469bf2",
   "metadata": {},
   "source": [
    "#### use the mpg data\n",
    "#### is there a difference in city mpg between compact cars and city mpg for all the cars in the dataset?"
   ]
  },
  {
   "cell_type": "code",
   "execution_count": 24,
   "id": "a1534658",
   "metadata": {},
   "outputs": [],
   "source": [
    "# STEP 1: get the data\n",
    "cars = data('mpg')\n",
    "compact_cars = cars[cars['class'] == 'compact']\n",
    "pop_mean = cars.cty.mean()"
   ]
  },
  {
   "cell_type": "code",
   "execution_count": null,
   "id": "37d5e035",
   "metadata": {},
   "outputs": [],
   "source": [
    "# STEP 2: establish hypothesis\n",
    "\n",
    "# H0: There is no difference between city mpg for compact cars\n",
    "#     and city mpg for all cars in the dataset\n",
    "\n",
    "# H1: There is a difference between city mpg for compact cars\n",
    "#     and city mpg for all cars in the dataset"
   ]
  },
  {
   "cell_type": "code",
   "execution_count": null,
   "id": "58cc3144",
   "metadata": {},
   "outputs": [],
   "source": [
    "# STEP 3: confirm the necesssary assumptions\n",
    "\n",
    "# is the data approximately normally distributed?"
   ]
  },
  {
   "cell_type": "code",
   "execution_count": 19,
   "id": "f70b233d",
   "metadata": {},
   "outputs": [
    {
     "name": "stdout",
     "output_type": "stream",
     "text": [
      "234\n",
      "47\n"
     ]
    }
   ],
   "source": [
    "# do we have enough data/samples?\n",
    "\n",
    "print(len(cars))\n",
    "print(len(compact_cars))"
   ]
  },
  {
   "cell_type": "code",
   "execution_count": 21,
   "id": "7bf6e33e",
   "metadata": {},
   "outputs": [
    {
     "data": {
      "image/png": "[encoded data removed]",
      "text/plain": [
       "<Figure size 432x288 with 1 Axes>"
      ]
     },
     "metadata": {
      "needs_background": "light"
     },
     "output_type": "display_data"
    },
    {
     "data": {
      "image/png": "[encoded data removed]",
      "text/plain": [
       "<Figure size 432x288 with 1 Axes>"
      ]
     },
     "metadata": {
      "needs_background": "light"
     },
     "output_type": "display_data"
    }
   ],
   "source": [
    "# what does the distribution look like?\n",
    "\n",
    "cars.cty.hist()\n",
    "plt.show()\n",
    "\n",
    "compact_cars.cty.hist()\n",
    "plt.show()"
   ]
  },
  {
   "cell_type": "code",
   "execution_count": 26,
   "id": "fa1aa232",
   "metadata": {},
   "outputs": [
    {
     "data": {
      "text/plain": [
       "(6.6191042534408915, 3.4017448216394005e-08)"
      ]
     },
     "execution_count": 26,
     "metadata": {},
     "output_type": "execute_result"
    }
   ],
   "source": [
    "# STEP 4: conduct the test\n",
    "\n",
    "alpha = .05\n",
    "\n",
    "t, p = stats.ttest_1samp(compact_cars.cty,\n",
    "                         pop_mean)\n",
    "t, p"
   ]
  },
  {
   "cell_type": "code",
   "execution_count": 29,
   "id": "b06840e5",
   "metadata": {},
   "outputs": [
    {
     "name": "stdout",
     "output_type": "stream",
     "text": [
      "Reject H0.\n"
     ]
    }
   ],
   "source": [
    "# STEP 5: evaluate, conclude\n",
    "\n",
    "# two tailed test evaluation:\n",
    "\n",
    "if p < alpha:\n",
    "    print('Reject H0.')\n",
    "else: \n",
    "    print('Fail to reject H0.')"
   ]
  },
  {
   "cell_type": "markdown",
   "id": "776ea9fd",
   "metadata": {},
   "source": [
    "#### conclusions\n",
    "\n",
    "Since p < alpha, we reject the null hypothesis that there is no difference between the city mpg for compact cars and the city mpg for all the cars in the dataset. \n",
    "\n",
    "This means that in a world where there ACTUALLY IS NO DIFFERENCE, there is less than a 5% chance that we would obtain a sample AT LEAST AS DIFFERENT from the population as the one we tested here. So, we conclude that there (probably) actually is a difference. "
   ]
  },
  {
   "cell_type": "code",
   "execution_count": null,
   "id": "24b6af8c",
   "metadata": {},
   "outputs": [],
   "source": []
  }
 ],
 "metadata": {
  "kernelspec": {
   "display_name": "Python 3 (ipykernel)",
   "language": "python",
   "name": "python3"
  },
  "language_info": {
   "codemirror_mode": {
    "name": "ipython",
    "version": 3
   },
   "file_extension": ".py",
   "mimetype": "text/x-python",
   "name": "python",
   "nbconvert_exporter": "python",
   "pygments_lexer": "ipython3",
   "version": "3.9.7"
  }
 },
 "nbformat": 4,
 "nbformat_minor": 5
}
