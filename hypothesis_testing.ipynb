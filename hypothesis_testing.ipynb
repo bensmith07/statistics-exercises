{
 "cells": [
  {
   "cell_type": "code",
   "execution_count": 1,
   "id": "002cae2c",
   "metadata": {},
   "outputs": [],
   "source": [
    "import pandas as pd\n",
    "import matplotlib.pyplot as plt\n",
    "import scipy.stats as stats\n",
    "import seaborn as sns\n",
    "from env import get_db_url, user, password, host\n",
    "from pydataset import data"
   ]
  },
  {
   "cell_type": "markdown",
   "id": "a6257d33",
   "metadata": {},
   "source": [
    "#### For each of the following questions, formulate a null and alternative hypothesis (be as specific as you can be), then give an example of what a true positive, true negative, type I and type II errors would look like. Note that some of the questions are intentionally phrased in a vague way. It is your job to reword these as more precise questions that could be tested."
   ]
  },
  {
   "cell_type": "markdown",
   "id": "ddafb07d",
   "metadata": {},
   "source": [
    "#### Has the network latency gone up since we switched internet service providers?\n",
    "\n",
    "H0: There has been no increase in network latency since we switched internet service providers\n",
    "\n",
    "H1: Network latency has gone up since we switched internet service providers"
   ]
  },
  {
   "cell_type": "markdown",
   "id": "541a0f83",
   "metadata": {},
   "source": [
    "#### Is the website redesign any good?\n",
    "\n",
    "H0: There has been no increase in the time customers spend on the website since the redesign.\n",
    "\n",
    "H1: Customers spend more time on the website since the redesign than they did before the redesign. "
   ]
  },
  {
   "cell_type": "markdown",
   "id": "7b396dda",
   "metadata": {},
   "source": [
    "#### Is our television ad driving more sales?\n",
    "\n",
    "H0: There has been no increase in sales since the premier of the television ad.\n",
    "\n",
    "H1: Sales have gone up since the premier of the television ad. "
   ]
  },
  {
   "cell_type": "markdown",
   "id": "7e229478",
   "metadata": {},
   "source": [
    "# T-Test"
   ]
  },
  {
   "cell_type": "markdown",
   "id": "db545423",
   "metadata": {},
   "source": [
    "#### Ace Realty wants to determine whether the average time it takes to sell homes is different for its two offices. A sample of 40 sales from office #1 revealed a mean of 90 days and a standard deviation of 15 days. A sample of 50 sales from office #2 revealed a mean of 100 days and a standard deviation of 20 days. Use a .05 level of significance.\n"
   ]
  },
  {
   "cell_type": "code",
   "execution_count": 2,
   "id": "57a98286",
   "metadata": {},
   "outputs": [],
   "source": [
    "# Office 1\n",
    "μ1 = 90\n",
    "σ1 = 15\n",
    "n1 = 40\n",
    "\n",
    "# Office 2\n",
    "μ2 = 100\n",
    "σ2 = 20\n",
    "n2 = 50\n",
    "\n",
    "# T-Test\n",
    "α = .05\n",
    "t, p = stats.ttest_ind_from_stats(μ1, σ1, n1, \n",
    "                                  μ2, σ2, n2,\n",
    "                                  equal_var=False)"
   ]
  },
  {
   "cell_type": "code",
   "execution_count": 3,
   "id": "56d09eb5",
   "metadata": {},
   "outputs": [
    {
     "name": "stdout",
     "output_type": "stream",
     "text": [
      "We reject H0.\n"
     ]
    }
   ],
   "source": [
    "# H0: There is no difference between sales times in the two offices. \n",
    "# H1: There is a difference in sales times between the two offices.\n",
    "\n",
    "# 2 tailed test:\n",
    "if p < α:\n",
    "    print('We reject H0.')\n",
    "else: \n",
    "    print('We fail to reject H0.')"
   ]
  },
  {
   "cell_type": "markdown",
   "id": "c4070321",
   "metadata": {},
   "source": [
    "#### Load the mpg dataset and use it to answer the following questions:"
   ]
  },
  {
   "cell_type": "code",
   "execution_count": 4,
   "id": "f7e914a5",
   "metadata": {},
   "outputs": [],
   "source": [
    "cars = data('mpg')\n",
    "cars['avg_mpg'] = (cars['cty'] + cars['hwy'])/2"
   ]
  },
  {
   "cell_type": "markdown",
   "id": "3b876103",
   "metadata": {},
   "source": [
    "#### Is there a difference in fuel-efficiency in cars from 2008 vs 1999?"
   ]
  },
  {
   "cell_type": "code",
   "execution_count": 5,
   "id": "e646cff2",
   "metadata": {},
   "outputs": [],
   "source": [
    "# cars from 2008\n",
    "cars_08 = cars[cars.year == 2008]\n",
    "\n",
    "# cars from 1999\n",
    "cars_99 = cars[cars.year == 1999]\n",
    "\n",
    "# T-Test\n",
    "α = .05\n",
    "t, p = stats.ttest_ind(cars_08.avg_mpg, \n",
    "                       cars_99.avg_mpg,\n",
    "                       equal_var=False)"
   ]
  },
  {
   "cell_type": "code",
   "execution_count": 6,
   "id": "33c470cb",
   "metadata": {},
   "outputs": [
    {
     "name": "stdout",
     "output_type": "stream",
     "text": [
      "We fail to reject H0.\n"
     ]
    }
   ],
   "source": [
    "# H0: There is no difference in mean avg_mpg for cars from 2008\n",
    "#     and the mean_avg mpg for cars from 1999.\n",
    "\n",
    "# H1: There is a difference in mean avg_mpg for cars from 2008\n",
    "#     and the mean_avg mpg for cars from 1999.\n",
    "\n",
    "# 2 tailed test:\n",
    "if p < α:\n",
    "    print('We reject H0.')\n",
    "else: \n",
    "    print('We fail to reject H0.')"
   ]
  },
  {
   "cell_type": "markdown",
   "id": "4c1478e8",
   "metadata": {},
   "source": [
    "#### Are compact cars more fuel-efficient than the average car?"
   ]
  },
  {
   "cell_type": "code",
   "execution_count": 7,
   "id": "eaae275b",
   "metadata": {},
   "outputs": [],
   "source": [
    "# compact cars\n",
    "compacts = cars[cars['class'] == 'compact']\n",
    "\n",
    "# mean fuel efficiency (avg_mpg) for all cars\n",
    "μ = cars.avg_mpg.mean()\n",
    "\n",
    "# T-test\n",
    "α = .05\n",
    "t, p = stats.ttest_1samp(compacts.avg_mpg, μ)"
   ]
  },
  {
   "cell_type": "code",
   "execution_count": 8,
   "id": "b55d21bb",
   "metadata": {},
   "outputs": [
    {
     "name": "stdout",
     "output_type": "stream",
     "text": [
      "We reject H0.\n"
     ]
    }
   ],
   "source": [
    "# H0: There is no difference between the mean avg_mpg for compact cars \n",
    "#     and the mean avg_mpg for all cars in the dataset\n",
    "\n",
    "# H1: The mean avg_mpg for compact cars is higher than the\n",
    "      #mean avg_mpg for all cars in the dataset\n",
    "\n",
    "# 1 tailed, greater than\n",
    "if p/2 < α and t > 0 :\n",
    "    print('We reject H0.')\n",
    "else: \n",
    "    print('We fail to reject H0.')"
   ]
  },
  {
   "cell_type": "markdown",
   "id": "4c2c130d",
   "metadata": {},
   "source": [
    "#### Do manual cars get better gas mileage than automatic cars?"
   ]
  },
  {
   "cell_type": "code",
   "execution_count": 9,
   "id": "4db394af",
   "metadata": {},
   "outputs": [],
   "source": [
    "# manual cars\n",
    "manuals = cars[cars.trans.str.contains('manual')]\n",
    "\n",
    "# automatic cars\n",
    "autos = cars[cars.trans.str.contains('auto')]\n",
    "\n",
    "# T-Test\n",
    "α = .05\n",
    "t, p = stats.ttest_ind(manuals.avg_mpg, autos.avg_mpg, equal_var=False)"
   ]
  },
  {
   "cell_type": "code",
   "execution_count": 10,
   "id": "d4c64b5a",
   "metadata": {},
   "outputs": [
    {
     "name": "stdout",
     "output_type": "stream",
     "text": [
      "We reject H0.\n"
     ]
    }
   ],
   "source": [
    "# H0: The mean avg_mpg for cars with manual transmissions is not higher than\n",
    "#     the mean avg_mpg for cars with automatic transmissions\n",
    "\n",
    "# H1: The mean avg_mpg for cars with manual transmissions is higher than\n",
    "#     the mean_avg_mpg for cars with automatic transmissions\n",
    "\n",
    "# 1 tailed, greater than\n",
    "if p/2 < α and t > 0 :\n",
    "    print('We reject H0.')\n",
    "else: \n",
    "    print('We fail to reject H0.')"
   ]
  }
 ],
 "metadata": {
  "kernelspec": {
   "display_name": "Python 3 (ipykernel)",
   "language": "python",
   "name": "python3"
  },
  "language_info": {
   "codemirror_mode": {
    "name": "ipython",
    "version": 3
   },
   "file_extension": ".py",
   "mimetype": "text/x-python",
   "name": "python",
   "nbconvert_exporter": "python",
   "pygments_lexer": "ipython3",
   "version": "3.9.7"
  }
 },
 "nbformat": 4,
 "nbformat_minor": 5
}
