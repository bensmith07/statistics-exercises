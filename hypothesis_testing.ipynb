{
 "cells": [
  {
   "cell_type": "markdown",
   "id": "a6257d33",
   "metadata": {},
   "source": [
    "#### For each of the following questions, formulate a null and alternative hypothesis (be as specific as you can be), then give an example of what a true positive, true negative, type I and type II errors would look like. Note that some of the questions are intentionally phrased in a vague way. It is your job to reword these as more precise questions that could be tested."
   ]
  },
  {
   "cell_type": "markdown",
   "id": "ddafb07d",
   "metadata": {},
   "source": [
    "#### Has the network latency gone up since we switched internet service providers?\n",
    "\n",
    "H0: There has been no change in network latency since we switched internet service providers\n",
    "\n",
    "H1: There has been a change in network latency since we switched internet service providers"
   ]
  },
  {
   "cell_type": "markdown",
   "id": "541a0f83",
   "metadata": {},
   "source": [
    "#### Is the website redesign any good?\n",
    "\n",
    "H0: There has been no change in the time customers spend on the website since the redesign.\n",
    "\n",
    "H1: Customers spend more time on the website since the redesign than they did before the redesign. "
   ]
  },
  {
   "cell_type": "markdown",
   "id": "7b396dda",
   "metadata": {},
   "source": [
    "#### Is our television ad driving more sales?\n",
    "\n",
    "H0: There has been no change in sales since the premier of the television ad.\n",
    "\n",
    "H1: Sales have gone up since the premier of the television ad. "
   ]
  },
  {
   "cell_type": "markdown",
   "id": "7e229478",
   "metadata": {},
   "source": [
    "# T-Test"
   ]
  },
  {
   "cell_type": "code",
   "execution_count": null,
   "id": "9176b18e",
   "metadata": {},
   "outputs": [],
   "source": []
  }
 ],
 "metadata": {
  "kernelspec": {
   "display_name": "Python 3 (ipykernel)",
   "language": "python",
   "name": "python3"
  },
  "language_info": {
   "codemirror_mode": {
    "name": "ipython",
    "version": 3
   },
   "file_extension": ".py",
   "mimetype": "text/x-python",
   "name": "python",
   "nbconvert_exporter": "python",
   "pygments_lexer": "ipython3",
   "version": "3.9.7"
  }
 },
 "nbformat": 4,
 "nbformat_minor": 5
}
